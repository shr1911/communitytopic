{
  "nbformat": 4,
  "nbformat_minor": 0,
  "metadata": {
    "colab": {
      "provenance": []
    },
    "kernelspec": {
      "name": "python3",
      "display_name": "Python 3"
    },
    "language_info": {
      "name": "python"
    }
  },
  "cells": [
    {
      "cell_type": "markdown",
      "source": [
        "# **Community Topic**\n",
        "\n",
        "> This file made for demostarting various examples of community topic.\n",
        "\n",
        "\n",
        "**What is Community Topic?**\n",
        "\n",
        "Community Topic, is based on mining communities of terms from term-occurrence networks extracted from the documents. In addition to providing interpretable collections of terms as topics, the network representation provides a natural topic structure. The topics form a network, so topic similarity is inferred from the weights of the edges between them. Super-topics can be found by iteratively applying community detection on the topic network, grouping similar topics together. Sub-topics can be found by iteratively applying community detection on a single topic community. This can be done dynamically, with the user or conversation agent moving up and down the topic hierarchy as desired.\n",
        "\n",
        "> Examples Covered\n",
        "  - Flat Topic Modelling\n",
        "  - Hierarchical Topic Modelling\n",
        "  - Topic Modelling on Spanish Language\n",
        "\n",
        "\n",
        "\n",
        "\n"
      ],
      "metadata": {
        "id": "tjjIfz9C6kVC"
      }
    },
    {
      "cell_type": "markdown",
      "source": [
        "### **1. Flat Topic Modelling**"
      ],
      "metadata": {
        "id": "ezdIKKSe81TQ"
      }
    },
    {
      "cell_type": "code",
      "source": [
        "# Mount your google drive in google colab\n",
        "from google.colab import drive\n",
        "drive.mount('/content/drive')"
      ],
      "metadata": {
        "colab": {
          "base_uri": "https://localhost:8080/"
        },
        "id": "HrI_H7t24EDh",
        "outputId": "acdd850d-f133-4422-9a12-2c818b6dae7f"
      },
      "execution_count": null,
      "outputs": [
        {
          "output_type": "stream",
          "name": "stdout",
          "text": [
            "Drive already mounted at /content/drive; to attempt to forcibly remount, call drive.mount(\"/content/drive\", force_remount=True).\n"
          ]
        }
      ]
    },
    {
      "cell_type": "code",
      "execution_count": null,
      "metadata": {
        "colab": {
          "base_uri": "https://localhost:8080/",
          "height": 902
        },
        "id": "u1Tk_b1iuPkD",
        "outputId": "0b6a0b01-09f7-4c8f-a124-722366b989a2"
      },
      "outputs": [
        {
          "output_type": "stream",
          "name": "stdout",
          "text": [
            "Looking in indexes: https://pypi.org/simple, https://us-python.pkg.dev/colab-wheels/public/simple/\n",
            "Collecting communitytopic\n",
            "  Downloading communitytopic-0.1.tar.gz (16 kB)\n",
            "  Preparing metadata (setup.py) ... \u001b[?25l\u001b[?25hdone\n",
            "Requirement already satisfied: setuptools~=67.6.0 in /usr/local/lib/python3.9/dist-packages (from communitytopic) (67.6.0)\n",
            "Requirement already satisfied: spacy~=3.5.0 in /usr/local/lib/python3.9/dist-packages (from communitytopic) (3.5.1)\n",
            "Requirement already satisfied: numpy~=1.21.5 in /usr/local/lib/python3.9/dist-packages (from communitytopic) (1.21.6)\n",
            "Requirement already satisfied: gensim~=4.2.0 in /usr/local/lib/python3.9/dist-packages (from communitytopic) (4.2.0)\n",
            "Requirement already satisfied: networkx~=2.8.4 in /usr/local/lib/python3.9/dist-packages (from communitytopic) (2.8.8)\n",
            "Requirement already satisfied: igraph~=0.10.4 in /usr/local/lib/python3.9/dist-packages (from communitytopic) (0.10.4)\n",
            "Requirement already satisfied: scipy>=0.18.1 in /usr/local/lib/python3.9/dist-packages (from gensim~=4.2.0->communitytopic) (1.10.1)\n",
            "Requirement already satisfied: smart-open>=1.8.1 in /usr/local/lib/python3.9/dist-packages (from gensim~=4.2.0->communitytopic) (6.3.0)\n",
            "Requirement already satisfied: texttable>=1.6.2 in /usr/local/lib/python3.9/dist-packages (from igraph~=0.10.4->communitytopic) (1.6.7)\n",
            "Requirement already satisfied: wasabi<1.2.0,>=0.9.1 in /usr/local/lib/python3.9/dist-packages (from spacy~=3.5.0->communitytopic) (1.1.1)\n",
            "Requirement already satisfied: pydantic!=1.8,!=1.8.1,<1.11.0,>=1.7.4 in /usr/local/lib/python3.9/dist-packages (from spacy~=3.5.0->communitytopic) (1.10.7)\n",
            "Requirement already satisfied: preshed<3.1.0,>=3.0.2 in /usr/local/lib/python3.9/dist-packages (from spacy~=3.5.0->communitytopic) (3.0.8)\n",
            "Requirement already satisfied: spacy-legacy<3.1.0,>=3.0.11 in /usr/local/lib/python3.9/dist-packages (from spacy~=3.5.0->communitytopic) (3.0.12)\n",
            "Requirement already satisfied: srsly<3.0.0,>=2.4.3 in /usr/local/lib/python3.9/dist-packages (from spacy~=3.5.0->communitytopic) (2.4.6)\n",
            "Requirement already satisfied: pathy>=0.10.0 in /usr/local/lib/python3.9/dist-packages (from spacy~=3.5.0->communitytopic) (0.10.1)\n",
            "Requirement already satisfied: requests<3.0.0,>=2.13.0 in /usr/local/lib/python3.9/dist-packages (from spacy~=3.5.0->communitytopic) (2.27.1)\n",
            "Requirement already satisfied: langcodes<4.0.0,>=3.2.0 in /usr/local/lib/python3.9/dist-packages (from spacy~=3.5.0->communitytopic) (3.3.0)\n",
            "Requirement already satisfied: tqdm<5.0.0,>=4.38.0 in /usr/local/lib/python3.9/dist-packages (from spacy~=3.5.0->communitytopic) (4.65.0)\n",
            "Requirement already satisfied: packaging>=20.0 in /usr/local/lib/python3.9/dist-packages (from spacy~=3.5.0->communitytopic) (23.0)\n",
            "Requirement already satisfied: cymem<2.1.0,>=2.0.2 in /usr/local/lib/python3.9/dist-packages (from spacy~=3.5.0->communitytopic) (2.0.7)\n",
            "Requirement already satisfied: spacy-loggers<2.0.0,>=1.0.0 in /usr/local/lib/python3.9/dist-packages (from spacy~=3.5.0->communitytopic) (1.0.4)\n",
            "Requirement already satisfied: murmurhash<1.1.0,>=0.28.0 in /usr/local/lib/python3.9/dist-packages (from spacy~=3.5.0->communitytopic) (1.0.9)\n",
            "Requirement already satisfied: typer<0.8.0,>=0.3.0 in /usr/local/lib/python3.9/dist-packages (from spacy~=3.5.0->communitytopic) (0.7.0)\n",
            "Requirement already satisfied: jinja2 in /usr/local/lib/python3.9/dist-packages (from spacy~=3.5.0->communitytopic) (3.1.2)\n",
            "Requirement already satisfied: thinc<8.2.0,>=8.1.8 in /usr/local/lib/python3.9/dist-packages (from spacy~=3.5.0->communitytopic) (8.1.9)\n",
            "Requirement already satisfied: catalogue<2.1.0,>=2.0.6 in /usr/local/lib/python3.9/dist-packages (from spacy~=3.5.0->communitytopic) (2.0.8)\n",
            "Requirement already satisfied: typing-extensions>=4.2.0 in /usr/local/lib/python3.9/dist-packages (from pydantic!=1.8,!=1.8.1,<1.11.0,>=1.7.4->spacy~=3.5.0->communitytopic) (4.5.0)\n",
            "Requirement already satisfied: idna<4,>=2.5 in /usr/local/lib/python3.9/dist-packages (from requests<3.0.0,>=2.13.0->spacy~=3.5.0->communitytopic) (3.4)\n",
            "Requirement already satisfied: urllib3<1.27,>=1.21.1 in /usr/local/lib/python3.9/dist-packages (from requests<3.0.0,>=2.13.0->spacy~=3.5.0->communitytopic) (1.26.15)\n",
            "Requirement already satisfied: charset-normalizer~=2.0.0 in /usr/local/lib/python3.9/dist-packages (from requests<3.0.0,>=2.13.0->spacy~=3.5.0->communitytopic) (2.0.12)\n",
            "Requirement already satisfied: certifi>=2017.4.17 in /usr/local/lib/python3.9/dist-packages (from requests<3.0.0,>=2.13.0->spacy~=3.5.0->communitytopic) (2022.12.7)\n",
            "Requirement already satisfied: blis<0.8.0,>=0.7.8 in /usr/local/lib/python3.9/dist-packages (from thinc<8.2.0,>=8.1.8->spacy~=3.5.0->communitytopic) (0.7.9)\n",
            "Requirement already satisfied: confection<1.0.0,>=0.0.1 in /usr/local/lib/python3.9/dist-packages (from thinc<8.2.0,>=8.1.8->spacy~=3.5.0->communitytopic) (0.0.4)\n",
            "Requirement already satisfied: click<9.0.0,>=7.1.1 in /usr/local/lib/python3.9/dist-packages (from typer<0.8.0,>=0.3.0->spacy~=3.5.0->communitytopic) (8.1.3)\n",
            "Requirement already satisfied: MarkupSafe>=2.0 in /usr/local/lib/python3.9/dist-packages (from jinja2->spacy~=3.5.0->communitytopic) (2.1.2)\n",
            "Building wheels for collected packages: communitytopic\n",
            "  Building wheel for communitytopic (setup.py) ... \u001b[?25l\u001b[?25hdone\n",
            "  Created wheel for communitytopic: filename=communitytopic-0.1-py3-none-any.whl size=15086 sha256=be5079efc1effd26ade0eb4bbcd35a0c8d8630e3dcf506961e647b7b72d6f804\n",
            "  Stored in directory: /root/.cache/pip/wheels/47/1c/48/f3752cd56631f5ace2ce31c084c4f6762b80629650c59ed3cc\n",
            "Successfully built communitytopic\n",
            "Installing collected packages: communitytopic\n",
            "Successfully installed communitytopic-0.1\n"
          ]
        },
        {
          "output_type": "display_data",
          "data": {
            "application/vnd.colab-display-data+json": {
              "pip_warning": {
                "packages": [
                  "communitytopic"
                ]
              }
            }
          },
          "metadata": {}
        }
      ],
      "source": [
        "!pip install communitytopic"
      ]
    },
    {
      "cell_type": "code",
      "source": [
        "# Import necessary class of the library\n",
        "\n",
        "from communitytopic import CommunityTopic\n",
        "from communitytopic import PreProcessing"
      ],
      "metadata": {
        "id": "vMsj8w5l1DED",
        "colab": {
          "base_uri": "https://localhost:8080/"
        },
        "outputId": "46d2694e-a0aa-41a0-b818-b9b47a75415e"
      },
      "execution_count": null,
      "outputs": [
        {
          "output_type": "stream",
          "name": "stderr",
          "text": [
            "/usr/local/lib/python3.9/dist-packages/torch/cuda/__init__.py:497: UserWarning: Can't initialize NVML\n",
            "  warnings.warn(\"Can't initialize NVML\")\n"
          ]
        }
      ]
    },
    {
      "cell_type": "code",
      "source": [
        "# Load raw corpus as the dataset, here we are using BBC dataset.\n",
        "\n",
        "with open(\"/content/drive/My Drive/bbc_train.txt\", \"r\", encoding='utf-8') as f:\n",
        "      bbc_train = f.read()\n",
        "      \n",
        "with open(\"/content/drive/My Drive/bbc_test.txt\", \"r\", encoding='utf-8') as f:\n",
        "      bbc_test = f.read()"
      ],
      "metadata": {
        "id": "TFFLM5VX37gi"
      },
      "execution_count": null,
      "outputs": []
    },
    {
      "cell_type": "code",
      "source": [
        "# Performing pre-processing on training and testing corpus\n",
        "\n",
        "tokenized_bbc_train_sents, tokenized_bbc_train_docs, tokenized_bbc_test_docs, dictionary = PreProcessing.do_preprocessing(\n",
        "        train=bbc_train,\n",
        "        test=bbc_test,\n",
        "        ner=1,\n",
        "        pos_filter=3,\n",
        "        phrases=\"npmi\",\n",
        "        phrase_threshold=0.35,\n",
        "        language=\"en\")"
      ],
      "metadata": {
        "id": "-rlS12rg4NLI",
        "colab": {
          "base_uri": "https://localhost:8080/"
        },
        "outputId": "3d1ae077-92e3-4f3f-9732-633622feb198"
      },
      "execution_count": null,
      "outputs": [
        {
          "output_type": "stream",
          "name": "stdout",
          "text": [
            "Preprocessing documents...\n",
            "Preprocessing completed in 104.7971420288086 seconds\n"
          ]
        }
      ]
    },
    {
      "cell_type": "code",
      "source": [
        "# Applying Flat Community Topic algorithm on pre-processed data\n",
        "\n",
        "community_topic = CommunityTopic(train_corpus=tokenized_bbc_train_sents,  dictionary=dictionary)\n",
        "community_topic.fit()"
      ],
      "metadata": {
        "colab": {
          "base_uri": "https://localhost:8080/"
        },
        "id": "B9fnZ_1-5tjD",
        "outputId": "14580ed6-dfe9-46a1-e8e7-2bb0c02505d3"
      },
      "execution_count": null,
      "outputs": [
        {
          "output_type": "stream",
          "name": "stdout",
          "text": [
            "Generating network...\n",
            "Finding topic communities...\n",
            "Topics found in 0.14843440055847168 seconds\n",
            "Sorting topics...\n",
            "Topics sorted in 0.9475181102752686 seconds\n"
          ]
        }
      ]
    },
    {
      "cell_type": "code",
      "source": [
        "#  Get topic words founded by abovr algorithm\n",
        "\n",
        "topic_words = community_topic.get_topics_words_topn(10)\n",
        "print(topic_words)"
      ],
      "metadata": {
        "colab": {
          "base_uri": "https://localhost:8080/"
        },
        "id": "QTRwwxOn52dR",
        "outputId": "8cc5fd9d-09cb-47d3-f100-f605294a74c4"
      },
      "execution_count": null,
      "outputs": [
        {
          "output_type": "stream",
          "name": "stdout",
          "text": [
            "[['year', 'company', 'world', 'growth', 'firm', 'economy', 'market', 'years', 'sales', 'months'], ['government', 'labour', 'election', 'party', 'blair', 'plans', 'minister', 'britain', 'tories', 'bill'], ['people', 'technology', 'users', 'music', 'software', 'phone', 'services', 'way', 'microsoft', 'service'], ['time', 'game', 'england', 'wales', 'ireland', 'france', 'players', 'team', 'match', 'chelsea'], ['film', 'award', 'awards', 'actor', 'director', 'number', 'star', 'films', 'actress', 'oscar']]\n"
          ]
        }
      ]
    },
    {
      "cell_type": "code",
      "source": [
        "import matplotlib.pyplot as plt\n",
        "    \n",
        "# Create a figure and axis object\n",
        "fig, ax = plt.subplots(figsize=(18, 15))\n",
        "    \n",
        "# Plot each word list as a horizontal bar chart\n",
        "for i, word_list in enumerate(topic_words):\n",
        "  ax.barh(word_list, [10 - j for j in range(10)], height=0.8, color=f'C{i}', alpha=0.8, label=f'Topic {i + 1}')\n",
        "    \n",
        "# Set axis labels and title\n",
        "ax.set_xlabel('Rank')\n",
        "ax.set_ylabel('Words')\n",
        "ax.set_title('Top 10 ranked words topic-wise')\n",
        "    \n",
        "# Add legend\n",
        "ax.legend()\n",
        "\n",
        "    \n",
        "# Show the plot\n",
        "plt.show()\n"
      ],
      "metadata": {
        "colab": {
          "base_uri": "https://localhost:8080/",
          "height": 893
        },
        "id": "IRQdAWd0_Jly",
        "outputId": "8177ee1a-ecce-4cdb-b676-9b02d8de374d"
      },
      "execution_count": null,
      "outputs": [
        {
          "output_type": "display_data",
          "data": {
            "text/plain": [
              "<Figure size 1296x1080 with 1 Axes>"
            ],
            "image/png": "[encoded data removed]"
          },
          "metadata": {
            "needs_background": "light"
          }
        }
      ]
    },
    {
      "cell_type": "markdown",
      "source": [
        "## **2. Hierarchical Topic Modelling**"
      ],
      "metadata": {
        "id": "NHFWb2m893ex"
      }
    },
    {
      "cell_type": "code",
      "source": [
        "# Applying Hierarchical Community Topic algorithm on pre-processed data\n",
        "\n",
        "community_topic.fit_hierarchical(2)"
      ],
      "metadata": {
        "colab": {
          "base_uri": "https://localhost:8080/"
        },
        "id": "JX8tKXjx-dgj",
        "outputId": "c4e37b80-00ff-475e-8667-93d244624804"
      },
      "execution_count": null,
      "outputs": [
        {
          "output_type": "stream",
          "name": "stdout",
          "text": [
            "Generating network...\n",
            "Finding topic communities...\n",
            "Topics found in 0.13059210777282715 seconds\n",
            "Sorting topics...\n",
            "Topics sorted in 0.7709805965423584 seconds\n"
          ]
        }
      ]
    },
    {
      "cell_type": "code",
      "source": [
        "#  Get hierarchical topic words founded by abovr algorithm\n",
        "\n",
        "hierarchical_topic_words = community_topic.get_topic_words_hierarchical()\n",
        "print(hierarchical_topic_words)"
      ],
      "metadata": {
        "colab": {
          "base_uri": "https://localhost:8080/"
        },
        "id": "sUa99l39-rhZ",
        "outputId": "dbe86421-6a9f-43f8-e89e-446195a862ec"
      },
      "execution_count": null,
      "outputs": [
        {
          "output_type": "stream",
          "name": "stdout",
          "text": [
            "defaultdict(<class 'dict'>, {1: {'0': ['year', 'company', 'growth', 'world', 'firm', 'economy', 'years', 'market', 'sales', 'months', 'deal', 'country', 'china', 'analysts', 'companies', 'group', 'shares', 'business', 'record', 'figures', 'oil', 'month', 'december', 'industry', 'report', 'countries', 'january', 'bank', 'dollar', 'costs', 'demand', 'state', 'sale', 'money', 'europe', 'rise', 'india', 'end', 'yukos', 'prices', 'quarter', 'profits', 'trade', 'price', 'investment', 'jobs', 'increase', 'japan', 'production', 'november', 'october', 'rate', 'debt', 'investors', 'inflation', 'level', 'exports', 'share', 'russia', 'fraud', 'unit', 'news', 'sector', 'offer', 'cost', 'bid', 'cash', 'times', 'period', 'september', 'euro', 'markets', 'rates', 'euros', 'value', 'earnings', 'development', 'consumer', 'profit', 'levels', 'fall', 'agreement', 'talks', 'airline', 'energy', 'car', 'businesses', 'order', 'gas', 'germany', 'executive', 'recovery', 'asia', 'index', 'fuel', 'banks', 'interest_rates', 'stake', 'competition', 'property', 'oil_prices', 'authorities', 'takeover', 'reports', 'imf', 'shareholders', 'trading', 'output', 'capital', 'christmas', 'charges', 'auction', 'impact', 'stock_market', 'slowdown', 'turkey', 'air', 'expectations', 'gazprom', 'economist', 'board', 'bankruptcy', 'forecasts', 'telecoms', 'results', 'revenues', 'insurance', 'april', 'fund', 'giant', 'goods', 'risk', 'operations', 'assets', 'target', 'staff', 'exchange', 'tsunami', 'decline', 'rosneft', 'manufacturing', 'south_korea', 'steel', 'banking', 'figure', 'worldcom', 'investigation', 'currency', 'creditors', 'consumer_spending', 'terms', 'concern', 'area', 'organisation', 'revenue', 'executives', 'reserves', 'conditions', 'finance', 'attempt', 'credit', 'protection', 'deficit', 'july', 'pace', 'gdp', 'directors', 'accounting', 'effect', 'strength', 'unemployment', 'construction', 'efforts', 'dollars', 'drop', 'hands', 'stock', 'management', 'activity', 'interest_rate', 'debts', 'economists', 'employment', 'wage', 'accounts', 'jail', 'economies', 'funds', 'mortgage', 'cars', 'collapse', 'losses', 'account', 'indonesia', 'fed', 'fears', 'income', 'quarters', 'total', 'ownership', 'travel', 'signs', 'decade', 'aircraft', 'reconstruction', 'khodorkovsky', 'basis', 'pay', 'region', 'gap', 'increases', 'housing_market', 'threat', 'reuters', 'founder', 'employees', 'land', 'export', 'imports', 'damage', 'indian', 'lawyers', 'percentage', 'division', 'negotiations', 'merger', 'vehicles', 'yen', 'chapter', 'supplies', 'proposal', 'airbus', 'billions', 'scandal', 'supply', 'projects', 'payments', 'loans', 'subsidies', 'building', 'ministry', 'sectors', 'expansion', 'thanks', 'food', 'risks', 'lawsuit', 'administration', 'resources', 'borrowing', 'airlines', 'effects', 'bosses', 'aviation', 'operator', 'press', 'ons', 'bankruptcy_protection', 'oil_giant', 'sec', 'officer', 'shell', 'boom', 'eurozone', 'owner', 'opportunities', 'gains', 'shareholder', 'morning', 'crisis', 'housing', 'settlement', 'package', 'high', 'beijing', 'damages', 'venture', 'north_america', 'turn', 'iran', 'house_prices', 'prosecutors', 'investments', 'tourism', 'purchase', 'industries', 'membership', 'boost', 'hong_kong', 'low', '1990s', 'filing', 'operating', 'operation', 'optimism', 'holiday', 'holdings', 'equity', 'forecast', 'sri_lanka', 'car_maker', 'managers', 'middle_east', 'observers', 'improvement', 'carrier', 'mikhail_khodorkovsky', 'london_stock_exchange', 'planes', 'oil_firm', 'regulators', 'compensation', 'tax_evasion', 'thailand', 'infrastructure', 'wall_street', 'prospects', 'contrast', 'carmaker', 'stocks', 'finances', 'buyers', 'review', 'dispute', 'weather', 'balance', 'subsidiary', 'regulator', 'parent', 'arm', 'united_states', 'pressures', 'bids', 'meetings', 'unions', 'growth_quarter', 'shops', 'shoppers', 'deficits', 'acquisition', 'president_bush', 'estimates', 'wages', 'weakness', 'bank_of_england', 'securities_and_exchange_commission', 'factors', 'loan', 'approval', 'distance', 'addition', 'transactions', 'boston', 'slump', 'mid', 'client', 'payment', 'petrol', 'securities', 'household', 'brazil', 'rating', 'traders', 'economics', 'tourist', 'returns', 'egypt', 'status', 'market_share', 'margins', 'surplus', 'plane', 'facilities', 'retailers', '3bn', 'indication', 'employers', 'class', 'commodity', 'pence', 'consortium', 'passengers', 'reduction', 'benefit', '1bn', 'statistics', 'consolidation', 'texas', 'auto', 'waves', 'average', 'volume', 'official', 'slide', 'thirds', 'plant', 'mining', 'restructuring', 'estimate', 'news_agency', 'congress', 'burden', 'advance', 'asset', 'chunk', 'luxury', 'worries', 'share_price', 'beginning', 'contracts', 'properties', 'coverage', 'mini', 'buyer', 'commerce', 'pound', 'cut', 'extent', 'chief_executive', 'chinese', 'yuan', 'surge', 'reserve', 'tokyo', 'budget_deficit', 'vehicle', 'challenges', 'incomes', 'institute', 'office_statistics', 'predictions', 'discovery', 'institutions', 'partners', 'governor', 'bonds', 'suggestions', 'subject', 'finance_minister', 'toll', 'ocean', 'barrels', 'national', 'strategist', 'surveys', 'growth_rate', 'witness', '11bn', 'sentence', 'investor', 'probe', 'assessment', 'highs', 'cities', 'block', 'rally', 'regions', 'rest_world', 'sri', 'utility', 'partnership', 'complaint', 'workforce', 'newspapers', 'mexico', 'clients', 'estate', 'months_september', 'ukraine', 'regulation', 'sporting', '10bn', 'worth', 'bail', 'bbc_world_service', 'extension', 'momentum', 'netherlands', 'gain', 'uncertainty', '2bn', 'drink', 'expenses', 'duties', 'credit_cards', 'healthcare', 'schemes', 'integration', 'contributions', 'territory', 'practices', 'feet', 'note', 'farm', 'washington', 'punishment', 'states', 'sell', 'peak', 'explosion', 'injection', 'turnover', 'structure', 'pounds', 'drinks', 'seller', 'difficulties', 'conspiracy', 'consumption', 'killer', 'tragedy', 'differences', 'tag', 'symbol', 'spotlight', 'roads', 'fine', 'engines', 'plants', 'bidding', 'premises', 'landscape', 'employee', 'bet', 'weight'], '1': ['government', 'labour', 'election', 'party', 'blair', 'plans', 'minister', 'britain', 'tories', 'bill', 'spokesman', 'brown', 'tax', 'law', 'chancellor', 'mps', 'decision', 'issue', 'court', 'tory', 'campaign', 'action', 'rights', 'commons', 'howard', 'bbc', 'tony_blair', 'ministers', 'taxes', 'police', 'conservatives', 'parliament', 'budget', 'vote', 'power', 'support', 'statement', 'children', 'issues', 'parties', 'voters', 'prime_minister', 'claims', 'immigration', 'committee', 'policy', 'term', 'kennedy', 'leader', 'schools', 'tuesday', 'secretary', 'monday', 'case', 'meeting', 'speech', 'chairman', 'work', 'elections', 'president', 'evidence', 'education', 'health', 'crime', 'spending', 'members', 'democrats', 'poll', 'plan', 'opposition', 'debate', 'changes', 'trust', 'aid', 'cabinet', 'commission', 'majority', 'book', 'lib_dem', 'michael_howard', 'powers', 'proposals', 'public', 'council_tax', 'parents', 'cards', 'street', 'gordon_brown', 'iraq', 'thursday', 'lord', 'ukip', 'council', 'laws', 'member', 'concerns', 'lib_dems', 'manifesto', 'office', 'politics', 'rules', 'choice', 'advice', 'programme', 'home_secretary', 'response', 'answer', 'officials', 'position', 'measures', 'child', 'head', 'care', 'sir', 'interest', 'job', 'labour_party', 'groups', 'conference', 'scheme', 'trial', 'africa', 'idea', 'chief', 'war', 'date', 'cases', 'policies', 'change', 'inquiry', 'seats', 'question', 'asylum', 'areas', 'citizens', 'questions', 'workers', 'strategy', 'legislation', 'favour', 'newspaper', 'supporters', 'election_campaign', 'community', 'politicians', 'poverty', 'lives', 'income_tax', 'reform', 'cuts', 'clarke', 'fees', 'justice', 'leaders', 'labour_election', 'view', 'force', 'iraq_war', 'judge', 'claim', 'democrat', 'process', 'department', 'situation', 'charge', 'interests', 'right', 'european', 'funding', 'step', 'comments', 'speculation', 'relief', 'lords', 'lib', 'leadership', 'shadow', 'constitution', 'students', 'assembly', 'house_arrest', 'families', 'approach', 'house_of_lords', 'matter', 'home_office', 'transport', 'alan_milburn', 'poster', 'example', 'opinion', 'pensions', 'bbc_news', 'pension', 'intelligence', 'terrorism', 'communities', 'judges', 'help', 'watchdog', 'referendum', 'attorney_general', 'paper', 'relationship', 'courts', 'ruling', 'orders', 'limit', 'terror_suspects', 'victims', 'decisions', 'european_union', 'votes', 'westminster', 'teachers', 'society', 'savings', 'sources', 'pupils', 'agency', 'allies', 'leader_michael_howard', 'rule', 'reforms', 'democracy', 'environment', 'commissioner', 'pledge', 'straw', 'terror', 'treasury', 'hospitals', 'bbc_radio_today_programme', 'past', 'announcement', 'affairs', 'interview', 'home_affairs', 'lack', 'papers', 'progress', 'agencies', 'letter', 'duty', 'failure', 'lawyer', 'skills', 'views', 'promises', 'university', 'councils', 'bush', 'welfare', 'correspondent', 'suspects', 'unity', 'law_lords', 'targets', 'agenda', 'posters', 'nation', 'spring', 'fear', 'heart', 'lord_falconer', 'waste', 'england_wales', 'culture', 'officers', 'direction', 'detention', 'scale', 'candidates', 'bbc_radio', 'fight', 'disaster', 'peace', 'milburn', 'initiative', 'difference', 'student', 'responsibility', 'ambitions', 'behaviour', 'taxation', 'general', 'rift', 'door', 'mind', 'spokeswoman', 'benefits', 'governments', 'discipline', 'suspicion', 'warning', 'stability', 'summit', 'words', 'measure', 'deputy', 'donations', 'resolution', 'aim', 'pledges', 'tax_cuts', 'leader_charles_kennedy', 'pensioners', 'platform', 'colleagues', 'enforcement', 'independence', 'campaigners', 'chairman_liam_fox', 'rises', 'limits', 'solution', 'truth', 'publication', 'involvement', 'professor', 'ambition', 'respect', 'taxpayers', 'emergency', 'oliver_letwin', 'journalist', 'value_money', 'climate_change', 'reasons', 'draft', 'east', 'planning', 'peers', 'sort', 'opponents', 'controversy', 'relations', 'science', 'prison', 'session', 'immigration_asylum', 'quotas', 'safety', 'campaigning', 'shadow_chancellor', 'commitment', 'backing', 'purpose', 'forum', 'abuse', 'seat', 'nhs', 'jack_straw', 'member_states', 'visit', 'david_davis', 'houston', '35bn', 'forces', 'delegates', 'federation', 'chancellor_gordon_brown', 'hunt', 'regulations', 'authority', 'charles_kennedy', 'intervention', 'principle', 'kelly', 'troops', 'arrangements', 'activities', 'option', 'peer', 'presidency', 'budgets', 'grounds', 'treatment', 'bodies', 'conflict', 'candidate', 'journalists', 'efficiency', 'scrutiny', 'disease', 'voting', 'prosecution', 'audit', 'possibility', 'means', 'spokesman_mark_oaten', 'anger', 'activists', 'comment', 'intention', 'patients', 'sunday_telegraph', 'hole', 'judgement', 'david_blunkett', 'argument', 'aids', 'discussion', 'education_secretary', 'morgan', 'news_conference', 'faith', 'blair_brown', 'incentives', 'foundation', 'labour_tories', 'michael', 'weapons', 'press_conference', 'offence', 'offices', 'stop', 'electorate', 'year_olds', 'foreign_secretary', 'retirement', 'tories_lib', 'tony', 'tory_leader', 'nationals', 'constituency', 'run_election', 'spin', 'practice', 'labour_campaign', 'timing', 'spending_plans', 'enterprise', 'regime', 'grip', 'studies', 'democrat_leader_charles_kennedy', 'destruction', 'war_iraq', 'visa', 'green', 'doctors', 'universities', 'importance', 'lessons', 'commitments', 'airport', 'immigrants', 'home_secretary_charles_clarke', 'apology', 'reading', 'determination', 'priority', 'prosperity', 'wake', 'adviser', 'fines', 'foreign', 'rumours', 'departments', 'polls', 'coalition', 'introduction', 'consensus', 'premier', 'examples', 'police_officers', 'adults', 'proof', 'chambers', 'attorney', 'circumstances', 'prime_minister_tony_blair', 'understanding', 'expert', 'telegraph', 'consultation', 'blair_s', 'classes', 'agriculture', 'guidance', 'tsunami_disaster', 'doesn', 'liberty', 'testing', 'resort', 'suggestion', 'decades', 'marriage', 'philippe', 'prime_minister_john_prescott', 'dogs', 'manner', 'watch', 'conduct', 'impression', 'uk_independence_party', 'disasters', 'stance', 'president_george_w_bush', 'breakfast', 'gateshead', 'article', 'fire', 'reporters', 'guardian_newspaper', 'arbitration', 'fishing', 'resignation', 'flexibility', 'frost', 'restrictions', 'charities', 'shadow_home_secretary', 'protests', 'arguments', 'freedom', 'pre', 'findings', 'authors', 'prosecutions', 'appointment', 'proceedings', 'passion', 'mission', 'supporter', 'handling', 'trevor', 'discussions', 'politician', 'expense', 'statements', 'offences', 'headlines', 'shake', 'bbc_one', 'health_education', 'protest', 'sorts', 'brussels', 'delays', 'disruption', 'sentences', 'guidelines', 'cause', 'request', 'making', 'european_commission', 'consequences', 'district', 'midlands', 'climate', 'matthew_taylor', 'procedures', 'speaker', 'principles', 'remarks', 'values', 'matters', 'investigations', 'shop', 'admission', 'choices', 'downing', 'vladimir_putin', 'taxpayer', 'commentators', 'worker', 'thought', 'scope', 'rule_law', 'announcements', 'background', 'units', 'credibility', 'legacy', 'responsibilities', 'notice', 'religion', 'condition', 'institution', 'tape', 'alcohol', 'letters', 'counterparts', 'convention', 'thinking', 'towns', 'heads', 'kent', 'feeling', 'alternative', 'consideration', 'diversity'], '2': ['time', 'game', 'england', 'wales', 'ireland', 'france', 'match', 'team', 'players', 'chelsea', 'win', 'nations', 'week', 'scotland', 'season', 'victory', 'club', 'minutes', 'injury', 'sunday', 'place', 'line', 'saturday', 'arsenal', 'goal', 'half', 'title', 'coach', 'rugby', 'chance', 'points', 'cup', 'italy', 'champion', 'liverpool', 'manager', 'ball', 'days', 'penalty', 'premiership', 'round', 'defeat', 'new_zealand', 'player', 'australia', 'event', 'form', 'series', 'boss', 'try', 'lead', 'williams', 'men', 'world_cup', 'centre', 'football', 'career', 'wednesday', 'opening', 'slam', 'march', 'weekend', 'champions_league', 'minute', 'matches', 'test', 'women', 'fans', 'break', 'cardiff', 'start', 'return', 'friday', 'squad', 'newcastle', 'championship', 'united', 'weeks', 'championships', 'summer', 'spain', 'set', 'race', 'league', 'robinson', 'tennis', 'captain', 'referee', 'roddick', 'park', 'tie', 'gold', 'tour', 'winner', 'striker', 'sydney', 'holmes', 'lions', 'kick', 'jones', 'leicester', 'paris', 'point', 'madrid', 'hodgson', 'pressure', 'welsh', 'everton', 'city', 'training', 'seed', 'draw', 'result', 'international', 'woodward', 'mark', 'union', 'american', 'crowd', 'athens', 'june', 'blacks', 'row', 'pair', 'south_africa', 'athletics', 'corner', 'august', 'manchester', 'confidence', 'loss', 'shot', 'opportunity', 'tournament', 'hour', 'wins', 'davis_cup', 'defence', 'seconds', 'ban', 'run', 'open', 'fly_half', 'moment', 'trip', 'wimbledon', 'dublin', 'goals', 'ferguson', 'hours', 'contract', 'edinburgh', 'medal', 'tests', 'stadium', 'southampton', 'gara', 'field', 'effort', 'paul', 'henman', 'visitors', 'olympic', 'bit', 'body', 'rivals', 'twickenham', 'course', 'birmingham', 'olympics', 'spot', 'challenge', 'chances', 'champions', 'replacement', 'rest', 'hewitt', 'blues', 'barcelona', 'penalties', 'ground', 'teams', 'lleyton_hewitt', 'pass', 'comeback', 'sides', 'display', 'rangers', 'benitez', 'sport', 'johnson', 'lansdowne_road', 'bath', 'campbell', 'wing', 'argentina', 'switzerland', 'association', 'thing', 'hand', 'sheffield', 'west', 'kicking', 'manchester_united', 'defender', 'glasgow', 'couple', 'flanker', 'ronaldo', 'israel', 'marathon', 'davenport', 'didn', 'hope', 'strike', 'keeper', 'iaaf', 'skipper', 'barkley', 'camp', 'cross', 'hopes', 'quarter_finals', 'tackle', 'sir_alex_ferguson', 'blackburn', 'leg', 'drop_goal', 'host', 'tries', 'post', 'yards', 'final', 'encounter', 'smith', 'wasps', 'winter', 'sullivan', 'doubt', 'carling_cup', 'events', 'superb', 'table', 'touch', 'autumn', 'bbc_sport', 'fitness', 'road', 'brian_driscoll', 'sweden', 'clubs', 'norwich', 'sports', 'blow', 'tel_aviv', 'sprinters', 'foot', 'medallist', 'space', 'runner', 'prop', 'fulham', 'appeal', 'incident', 'portsmouth', 'scots', 'glory', 'contest', 'moments', 'eddie', 'tottenham', 'silver', 'winger', 'mourinho', 'crown', 'shock', 'promise', 'arsene_wenger', 'relay', 'murphy', 'injuries', 'lions_tour', 'header', 'taylor', 'lock', 'cap', 'drugs', 'goalkeeper', 'man_utd', 'anfield', 'chicago', 'melbourne', 'andy_roddick', 'plenty', 'bridge', 'face', 'hamstring_injury', 'dubai', 'trouble', 'south', 'serve', 'gmt', 'hearing', 'athletes', 'charlie', 'decider', 'thomas', 'tim_henman', 'style', 'displays', 'absence', 'tribunal', 'roger_federer', 'allegations', 'criticism', 'hickie', 'hospital', 'desire', 'edge', 'republic', 'usa', 'score', 'bench', 'milan', 'gunners', 'gloucester', 'borders', 'spaniard', 'likes', 'kelly_holmes', 'james', 'interval', 'runners', 'task', 'davies', 'moody', 'trafford', 'matt_williams', 'ronan', 'stages', 'andre', 'athens_games', 'crash', 'steven_gerrard', 'yard', 'irish', 'england_nations', 'clive', 'hosts', 'trials', 'real', 'charlie_hodgson', 'selection', 'cole', 'attempts', 'scrum_half', 'pack', 'holder', 'jump', 'hero', 'knee_injury', 'fixture', 'ankle', 'leeds', 'rugby_board', 'manchester_city', 'talk', 'surface', 'scoring', 'jason_robinson', 'athlete', 'capt', 'succession', 'belief', 'prix', 'mistake', 'elena', 'options', 'prospect', 'exhibition', 'byrne', 'sprint', 'kenteris_katerina_thanou', 'rafael', 'character', 'coach_andy_robinson', 'kenteris_thanou', 'connell', 'assistant', 'partner', 'team_mate', 'trophy', 'rbs_nations', 'french', 'finish', 'touchline', 'canada', 'bell', 'gareth', 'atmosphere', 'reputation', 'midfielder', 'semi_finals', 'johansson', 'possession', 'briton', 'suspension', 'eve', 'end_season', 'seasons', 'hurdles', 'disappointment', 'midfield', 'metres', 'greece', 'world_champion', 'drugs_test', 'northern_ireland', 'eyes', 'closing', 'scores', 'knee', 'ryan', 'sprinter', 'guys', 'backs', 'victories', 'gear', 'outcome', 'representatives', 'finals', 'spell', 'john', 'aston', 'rome', 'favourite', 'atp', 'coach_bernard_laporte', 'appearances', 'frank', 'accident', 'world_class', 'bomb', 'clash', 'departure', 'pitch', 'sets', 'playing', 'hayes', 'kim', 'england_coach', 'dream', 'youngsters', 'arrival', 'schedule', 'start_season', 'english', 'races', 'trio', 'clock', 'preparation', 'romania', 'fortune', 'whistle', 'venue', 'bar', 'teenager', 'lewis', 'compatriot', 'inclusion', 'revenge', 'dip', 'posts', 'millennium', 'rivalry', 'bans', 'holders', 'robbie', 'errors', 'afternoon', 'gordon', 'indoors', 'cooper', 'mood', 'coaches', 'fellow', 'steve', 'reaction', 'enthusiasm', 'greg', 'sight', 'opponent', 'beat', 'verge', 'recall', 'shoulder', 'doctor', 'surgery', 'lawrence_dallaglio', 'holland', 'angle', 'path', 'shape', 'circuit', 'participation', 'scot', 'journey', 'stand', 'vice', 'rob', 'mistakes', 'fault', 'zone', 'nerve', 'yorkshire', 'affair', 'pieces', 'fish', 'couldn', 'dressing_room', 'wall', 'ranks', 'luck', 'victor', 'neil', 'suit', 'simon', 'bones', 'frustration', 'shots', 'good', 'shame', 'subs', 'miller'], '3': ['people', 'technology', 'users', 'music', 'software', 'services', 'phone', 'way', 'service', 'microsoft', 'data', 'firms', 'internet', 'computer', 'video', 'information', 'games', 'web', 'content', 'phones', 'security', 'home', 'system', 'mail', 'broadband', 'media', 'research', 'devices', 'network', 'consumers', 'networks', 'mobiles', 'apple', 'windows', 'customers', 'computers', 'speed', 'use', 'websites', 'google', 'radio', 'site', 'pcs', 'sony', 'access', 'sites', 'systems', 'technologies', 'files', 'net', 'spam', 'generation', 'search', 'gaming', 'images', 'device', 'products', 'virus', 'programs', 'control', 'attacks', 'future', 'machines', 'details', 'gadgets', 'problems', 'lot', 'range', 'dvd', 'storage', 'viruses', 'operators', 'multimedia', 'file', 'machine', 'survey', 'ways', 'spyware', 'definition', 'handsets', 'website', 'messages', 'programmes', 'cameras', 'thousands', 'numbers', 'design', 'quality', 'gadget', 'entertainment', 'mobile', 'project', 'ability', 'analyst', 'problem', 'things', 'program', 'calls', 'blogs', 'drive', 'traffic', 'yahoo', 'chip', 'gamers', 'xbox', 'fact', 'pictures', 'console', 'titles', 'language', 'tools', 'experts', 'experience', 'voice', 'bbc_news_website', 'card', 'tool', 'connection', 'graphics', 'study', 'connections', 'size', 'memory', 'consumer_electronics', 'developers', 'viewers', 'itunes', 'piracy', 'code', 'capacity', 'intel', 'need', 'ces', 'message', 'user', 'nintendo', 'millions', 'today', 'operating_system', 'screens', 'addresses', 'photos', 'kind', 'versions', 'movies', 'cable', 'mails', 'attack', 'browser', 'playstation', 'features', 'servers', 'innovation', 'product', 'music_players', 'telephone', 'hardware', 'aol', 'tech', 'camera', 'launch', 'criminals', 'nokia', 'handset', 'models', 'standards', 'address', 'pages', 'lifestyle', 'speeds', 'makers', 'linux', 'text', 'consoles', 'light', 'names', 'revolution', 'spammers', 'cell', 'box', 'person', 'homes', 'laptop', 'blog', 'owners', 'image', 'subscribers', 'format', 'colour', 'digital', 'amounts', 'satellite', 'marketing', 'motorola', 'advantage', 'panel', 'popularity', 'search_engine', 'link', 'reason', 'boxes', 'dvds', 'type', 'security_firm', 'centres', 'hundreds', 'online', 'source', 'variety', 'potential', 'links', 'download', 'audio', 'dial', 'sky', 'las_vegas', 'broadcast', 'trend', 'page', 'desktop', 'pocket', 'ibm', 'engineering', 'population', 'awareness', 'habits', 'music_download', 'maker', 'functions', 'threats', 'distribution', 'gates', 'subscription', 'organisations', 'mail_messages', 'tvs', 'core', 'collection', 'word', 'jupiter', 'brand', 'individuals', 'researchers', 'documents', 'alliance', 'jupiter_research', 'ideas', 'vodafone', 'provider', 'providers', 'sun', 'stores', 'worm', 'outlook', 'focus', 'channels', 'manufacturers', 'stories', 'vision', 'laptops', 'industry_experts', 'adverts', 'search_engines', 'material', 'credit_card', 'clips', 'model', 'media_players', 'halo', 'fee', 'protocol', 'attachment', 'formats', 'contact', 'instance', 'ones', 'lists', 'applications', 'analysis', 'lovers', 'gartner', 'advertising', 'standard', 'lines', 'broadcasts', 'types', 'video_recorders', 'knowledge', 'shopping', 'experiences', 'telecommunications', 'eye', 'peer_peer', 'firewall', 'video_images', 'keyboard', 'musicians', 'communications', 'hold', 'station', 'surfers', 'demands', 'photo', 'launches', 'trends', 'monitor', 'mouse', 'computing', 'complaints', 'chips', 'phone_calls', 'room', 'deals', 'needs', 'electronics', 'bills', 'depth', 'ups', 'ease', 'lots', 'copyright', 'vice_president', 'elements', 'publishers', 'readers', 'amazon', 'processing', 'video_games', 'transfer', 'media_player', 'customer', 'europeans', 'factor', 'combination', 'sign', 'audiences', 'samsung', 'specifications', 'store', 'techniques', 'reality', 'privacy', 'identity', 'britons', 'application', 'theft', 'mainstream', 'behalf', 'tracks', 'broadcasting', 'items', 'living', 'california', 'parts', 'fashion', 'blogger', 'print', 'controls', 'messaging', 'capability', 'communication', 'water', 'moves', 'psp', 'improvements', 'competitors', 'equipment', 'danger', 'drives', 'document', 'sense', 'premium', 'rival', 'port', 'downloads', 'wave', 'capabilities', 'sophos', 'warnings', 'programming', 'processors', 'center', 'labs', 'mp3_players', 'existence', 'wealth', 'shift', 'steps', 'games_console', 'giants', 'labels', 'monitoring', 'implications', 'movement', 'microsoft_xbox', 'delivery', 'era', 'forms', 'upgrade', 'videos', 'text_messages', 'brands', 'initiatives', 'stations', 'detail', 'passport', 'consultant', 'americans', 'internet_access', 'ofcom', 'percent', 'signals', 'radio_stations', 'source_software', 'concept', 'components', 'train', 'flight', 'music_industry', 'creation', 'licence', 'developments', 'speakers', 'computer_users', 'niche', 'scientists', 'entries', 'hub', 'proportion', 'spokesperson', 'worlds', 'signal', 'kids', 'electricity', 'music_movies', 'victim', 'corporation', 'households', 'broadcasters', 'pundits', 'catalogue', 'opinions', 'operating_officer', 'doors', 'instructions', 'fortunes', 'actions', 'laboratory', 'fun', 'border', 'floor', 'broadcaster', 'incidents', 'clothing', 'metal', 'partnerships', 'adult', 'publisher', 'aspect', 'slice', 'solutions', 'computer_games', 'consultancy', 'perspective', 'specialist', 'mass', 'shelves', 'copy', 'think', 'sessions', 'phenomenon', 'nature', 'buzz', 'faces', 'boards', 'emphasis', 'route', 'planet', 'attitudes', 'methods', 'pattern', 'buildings', 'couple_years', 'chain', 'aspects', 'patterns', 'conversation', 'tactics', 'languages', 'doubts', 'excitement', 'lot_work', 'human', 'criteria', 'reach', 'dominance', 'articles', 'periods', 'representative', 'permission', 'requests', 'attitude', 'harm', 'colleague', 'compromise', 'location', 'tomorrow'], '4': ['film', 'award', 'awards', 'actor', 'director', 'number', 'star', 'films', 'actress', 'oscar', 'role', 'album', 'movie', 'london', 'comedy', 'singer', 'life', 'stars', 'prize', 'chart', 'band', 'man', 'drama', 'nominations', 'aviator', 'performance', 'hollywood', 'day', 'ceremony', 'list', 'debut', 'night', 'theatre', 'song', 'box_office', 'vera_drake', 'success', 'oscars', 'version', 'screen', 'stage', 'festival', 'new_york', 'february', 'category', 'release', 'television', 'producers', 'love', 'act', 'magazine', 'pop', 'winners', 'rock', 'story', 'family', 'globe', 'death', 'house', 'ray', 'woman', 'artists', 'dollar_baby', 'hotel', 'school', 'imelda_staunton', 'critics', 'los_angeles', 'play', 'audience', 'charts', 'king', 'bafta', 'documentary', 'prince', 'producer', 'owen', 'ray_charles', 'history', 'cinema', 'actors', 'film_festival', 'shows', 'studios', 'scene', 'academy', 'records', 'singles', 'songs', 'elvis', 'achievement', 'studio', 'boy', 'track', 'berlin', 'picture', 'tribute', 'academy_awards', 'nomination', 'age', 'stone', 'prizes', 'british', 'opera', 'richard', 'sideways', 'don', 'channel', 'writer', 'leigh', 'dance', 'leonardo_dicaprio', 'nominees', 'charles', 'contribution', 'premiere', 'charity', 'screenplay', 'jamie_foxx', 'mary', 'editor', 'roles', 'self', 'mike', 'friends', 'rap', 'feature', 'girl', 'legend', 'battle', 'organisers', 'concert', 'talent', 'evening', 'biopic', 'costume', 'davis', 'fame', 'hit', 'sound', 'hip_hop', 'grammy', 'cate_blanchett', 'winslet', 'bands', 'wife', 'categories', 'appearance', 'copies', 'mtv', 'queen', 'novel', 'surprise', 'martin_scorsese', 'arts', 'honour', 'art', 'label', 'performances', 'san_francisco', 'rapper', 'alexander', 'favourites', 'north', 'books', 'rock_band', 'revival', 'cent', 'streets', 'father', 'daughter', 'golden', 'wine', 'america', 'lady', 'places', 'boys', '1980s', 'bear', 'white', 'takings', 'veteran', 'materials', 'mother', 'nominee', 'sea', 'attention', 'entry', 'motorcycle', 'keane', 'sequel', 'thriller', 'factory', 'presenter', 'horror', 'reviews', 'anniversary', 'fiction', 'artist', 'credits', 'son', 'friend', 'century', 'diaries', 'hits', 'roll', 'recording', 'bond', 'west_end', 'brother', 'episode', 'soap', 'duo', 'celebrity', 'drug', 'carpet', 'brit', 'film_maker', 'motion', 'mrs', 'profile', 'sex', 'church', 'lord_rings', 'guy', 'look', 'husband', 'spirit', 'david', 'honours', 'eminem', 'writers', 'wilson', 'engagement', 'sisters', 'running', 'genre', 'fox', 'acts', 'contenders', 'peter', 'biography', 'musician', 'fan', 'author', 'screening', 'franz_ferdinand', 'theme', 'writing', 'itv1', 'albums', 'island', 'murder', 'trophies', 'dinner', 'adventure', 'cast', 'dame', 'triumph', 'christian', 'star_wars', 'joy', 'wedding', 'rush', 'girls', 'cinemas', 'itv', 'editing', 'stuff', 'odds', 'footage', 'gig', 'tickets', 'jury', 'hall', 'baby', 'singers', 'base', 'town', 'productions', 'violence', 'works', 'adaptation', 'lifetime', 'interviews', 'assault', 'cambridge', 'guard', 'soldiers', 'tim', 'breakthrough', 'performer', 'sister', 'lopez', 'ticket_sales', 'acting', 'newcomer', '1970s', 'influence', 'agent', 'plot', 'calendar', 'present', 'ratings', 'atlantic', 'piece', 'slot', 'film_makers', 'string', 'publicity', 'clothes', '1960s', 'passage', 'suicide', 'tiger', 'jean', 'scenes', 'teacher', 'music_fans', 'presence', 'earth', 'blood', 'wonder', 'college', 'middle', 'headquarters', 'mountain', 'deadline', 'arrest', 'van', 'celebration', 'section', 'occasion', 'frontman', 'concerts', 'ring', 'memories', 'reference', 'key', 'recognition', 'characters', 'critic', 'positions', 'trick', 'square', 'icon', 'martin', 'cover', 'element', 'performers', 'birth', 'celebrities', 'reception', 'praise', 'pilot', 'expression', 'ticket', 'battles', 'army', 'youth', 'florida', 'red', 'degree', 'beauty', 'promotion', 'exposure', 'outrage', 'village', 'length', 'count', 'individual', 'attendance', 'hell']}, 2: {'0_0': ['company', 'firm', 'yukos', 'deal', 'shares', 'group', 'sale', 'oil', 'state', 'fraud', 'unit', 'bid', 'offer', 'russia', 'investors', 'investment', 'shareholders', 'production', 'auction', 'gas', 'gazprom', 'stake', 'cash', 'share', 'charges', 'worldcom', 'rosneft', 'board', 'talks', 'news', 'stock_market', 'takeover', 'executive', 'agreement', 'bankruptcy', 'accounting', 'reports', 'energy', 'value', 'order', 'assets', 'creditors', 'finance', 'authorities', 'giant', 'khodorkovsky', 'directors', 'protection', 'investigation', 'capital', 'telecoms', 'lawyers', 'attempt', 'collapse', 'oil_giant', 'chapter', 'trading', 'executives', 'founder', 'management', 'hands', 'jail', 'oil_firm', 'stock', 'proposal', 'mikhail_khodorkovsky', 'sec', 'lawsuit', 'shareholder', 'press', 'scandal', 'debts', 'bankruptcy_protection', 'construction', 'owner', 'accounts', 'tax_evasion', 'officer', 'investments', 'funds', 'bosses', 'shell', 'projects', 'damages', 'filing', 'london_stock_exchange', 'prosecutors', 'merger', 'division', 'settlement', 'reuters', 'negotiations', 'iran', 'transactions', 'pence', 'morning', 'texas', 'securities_and_exchange_commission', 'venture', 'arm', 'operator', 'managers', 'beijing', 'compensation', 'supply', 'equity', 'finances', 'asset', 'approval', 'package', 'securities', 'witness', '11bn', 'parent', 'purchase', 'news_agency', 'chunk', 'observers', 'regulator', 'supplies', 'buyer', 'subsidiary', 'distance', 'stocks', 'dispute', 'discovery', 'mid', 'loan', 'regulators', 'bonds', '1bn', '3bn', 'facilities', 'benefit', 'meetings', 'investor', 'mining', 'share_price', 'barrels', 'partnership', 'subject', 'complaint', 'bail', 'plant', 'chief_executive', 'chinese', 'consortium', '10bn', 'auto', 'class', 'returns', 'probe', 'national', 'conspiracy', 'sentence', 'restructuring', 'punishment', 'injection', 'newspapers', 'bidding', 'expenses', 'worth', 'netherlands', 'structure', 'extension', 'ukraine', 'spotlight', 'plants'], '0_1': ['companies', 'business', 'industry', 'jobs', 'cost', 'airline', 'staff', 'insurance', 'businesses', 'wage', 'operations', 'pay', '1990s', 'employees', 'employers', 'steel', 'wages', 'revenue', 'ownership', 'boom', 'opportunities', 'unions', 'client', 'status', 'industries', 'bids', 'clients', 'consolidation', 'infrastructure', 'contributions', 'turn', 'congress', 'symbol', 'airlines', 'carrier', 'suggestions', 'prospects', 'employee', 'payment', 'workforce', 'addition', 'practices', 'killer', 'passengers', 'schemes', 'cut', 'sporting', 'note', '2bn', 'block', 'premises', 'drinks'], '0_2': ['world', 'countries', 'country', 'china', 'india', 'trade', 'report', 'europe', 'debt', 'money', 'markets', 'imf', 'asia', 'tsunami', 'development', 'indonesia', 'turkey', 'impact', 'air', 'organisation', 'currency', 'travel', 'fund', 'risk', 'sri_lanka', 'economies', 'thailand', 'billions', 'airbus', 'indian', 'subsidies', 'efforts', 'credit', 'aircraft', 'damage', 'reconstruction', 'tourism', 'payments', 'goods', 'crisis', 'income', 'dollars', 'region', 'resources', 'membership', 'operation', 'planes', 'ocean', 'rating', 'boston', 'finance_minister', 'middle_east', 'waves', 'bbc_world_service', 'aviation', 'deficits', 'cities', 'thanks', 'united_states', 'basis', 'hong_kong', 'brazil', 'egypt', 'surplus', 'plane', 'burden', 'tourist', 'sri', 'institutions', 'balance', 'commodity', 'assessment', 'tragedy', 'difficulties', 'mexico', 'highs', 'states', 'yuan', 'strategist', 'differences', 'feet', 'partners', 'credit_cards', 'uncertainty', 'pounds', 'landscape', 'integration', 'washington', 'engines'], '0_3': ['year', 'sales', 'december', 'figures', 'months', 'quarter', 'january', 'month', 'rise', 'record', 'profits', 'november', 'costs', 'end', 'october', 'prices', 'increase', 'period', 'profit', 'price', 'fall', 'september', 'christmas', 'expectations', 'earnings', 'car', 'euros', 'fuel', 'index', 'output', 'gdp', 'forecasts', 'decline', 'july', 'revenues', 'drop', 'competition', 'total', 'property', 'economists', 'figure', 'vehicles', 'april', 'cars', 'ons', 'house_prices', 'results', 'terms', 'percentage', 'quarters', 'losses', 'high', 'borrowing', 'gains', 'growth_quarter', 'volume', 'land', 'operating', 'shops', 'shoppers', 'office_statistics', 'food', 'car_maker', 'carmaker', 'loans', 'retailers', 'north_america', 'optimism', 'wall_street', 'boost', 'holiday', 'utility', 'vehicle', 'petrol', 'surge', 'weather', 'average', 'contrast', 'market_share', 'advance', 'luxury', 'properties', 'statistics', 'mini', 'margins', 'surveys', 'acquisition', 'indication', 'estimates', 'slump', 'beginning', 'contracts', 'regions', 'drink', 'healthcare', 'extent', 'toll', 'peak', 'estate', 'turnover', 'seller', 'tag', 'territory', 'duties', 'roads', 'bet', 'fine'], '0_4': ['growth', 'economy', 'years', 'market', 'dollar', 'analysts', 'bank', 'demand', 'inflation', 'rates', 'rate', 'exports', 'japan', 'level', 'euro', 'interest_rates', 'sector', 'consumer', 'recovery', 'economist', 'slowdown', 'times', 'consumer_spending', 'germany', 'oil_prices', 'manufacturing', 'levels', 'unemployment', 'strength', 'banks', 'interest_rate', 'decade', 'south_korea', 'fed', 'activity', 'housing_market', 'pace', 'eurozone', 'signs', 'reserves', 'mortgage', 'concern', 'employment', 'banking', 'exchange', 'export', 'deficit', 'conditions', 'target', 'fears', 'effect', 'effects', 'risks', 'imports', 'area', 'ministry', 'yen', 'increases', 'account', 'pressures', 'threat', 'improvement', 'slide', 'bank_of_england', 'gap', 'low', 'household', 'sectors', 'factors', 'forecast', 'expansion', 'housing', 'holdings', 'administration', 'president_bush', 'weakness', 'buyers', 'traders', 'economics', 'growth_rate', 'estimate', 'building', 'challenges', 'worries', 'official', 'incomes', 'governor', 'review', 'months_september', 'reserve', 'tokyo', 'budget_deficit', 'rest_world', 'coverage', 'thirds', 'pound', 'rally', 'momentum', 'regulation', 'predictions', 'explosion', 'commerce', 'reduction', 'institute', 'farm', 'sell', 'gain', 'consumption', 'weight'], '1_0': ['secretary', 'shadow', 'referendum', 'constitution', 'question', 'foreign_secretary', 'jack_straw', 'thursday', 'european_union', 'treasury', 'general', 'chief', 'culture', 'european', 'straw', 'affairs', 'measure', 'education_secretary', 'governments', 'michael', 'grip', 'doesn'], '1_1': ['court', 'law', 'police', 'rights', 'powers', 'evidence', 'case', 'trial', 'crime', 'home_secretary', 'citizens', 'immigration', 'judge', 'terror_suspects', 'laws', 'law_lords', 'rules', 'support', 'clarke', 'detention', 'cases', 'judges', 'house_arrest', 'sir', 'legislation', 'measures', 'suspects', 'community', 'groups', 'inquiry', 'ruling', 'terror', 'orders', 'courts', 'right', 'england_wales', 'justice', 'lives', 'charge', 'home_office', 'force', 'prison', 'officers', 'victims', 'commissioner', 'politicians', 'targets', 'enforcement', 'prosecution', 'offence', 'bbc_radio_today_programme', 'dogs', 'nationals', 'lawyer', 'decisions', 'visa', 'hunt', 'home_affairs', 'authority', 'limit', 'limits', 'responsibility', 'david_davis', 'forces', 'offences', 'prosecutions', 'liberty', 'proof', 'behaviour', 'fines', 'difference', 'heart', 'district', 'police_officers', 'judgement', 'david_blunkett', 'activities', 'principle', 'arbitration', 'conduct', 'scrutiny', 'grounds', 'shadow_home_secretary', 'attorney', 'regime', 'abuse', 'houston', 'controversy', 'restrictions', 'aim', 'airport', 'activists', 'guidance', 'sentences', 'doctors', 'marriage', 'circumstances', 'delays', 'anger', 'watch', 'european_commission', 'possibility', 'resignation', 'investigations', 'consequences', 'freedom', 'alcohol', 'politician', 'flexibility', 'letters', 'taxpayer', 'notice', 'tape', 'diversity'], '1_2': ['bill', 'commons', 'committee', 'spokesman', 'mps', 'decision', 'bbc', 'parliament', 'chairman', 'meeting', 'parties', 'tuesday', 'commission', 'members', 'debate', 'issue', 'monday', 'member', 'president', 'public', 'changes', 'opposition', 'house_of_lords', 'office', 'lords', 'change', 'reform', 'donations', 'favour', 'democrat', 'draft', 'intelligence', 'assembly', 'terrorism', 'environment', 'sources', 'reading', 'rule', 'papers', 'watchdog', 'approach', 'peers', 'letter', 'correspondent', 'announcement', 'bbc_news', 'taxpayers', 'scale', 'audit', 'member_states', 'relations', 'solution', 'request', 'speaker', 'bodies', 'deputy', 'making', 'visit', 'run_election', 'supporter', 'spokeswoman', 'voting', 'matthew_taylor', 'blair_brown', 'presidency', 'reasons', 'opponents', 'procedures', 'trevor', 'vladimir_putin', 'statements', 'determination', 'fishing', 'findings', 'fire', 'suggestion', 'consideration', 'counterparts', 'condition', 'authors'], '1_3': ['minister', 'statement', 'action', 'book', 'advice', 'answer', 'prime_minister', 'cabinet', 'attorney_general', 'claims', 'street', 'issues', 'lord', 'iraq', 'newspaper', 'iraq_war', 'allies', 'officials', 'war', 'position', 'opinion', 'questions', 'comments', 'resolution', 'mind', 'suspicion', 'interest', 'speculation', 'claim', 'matter', 'situation', 'journalist', 'interview', 'lord_falconer', 'view', 'peace', 'morgan', 'process', 'past', 'intervention', 'example', 'step', 'relationship', 'publication', 'philippe', 'adviser', 'sunday_telegraph', 'weapons', 'chambers', 'involvement', 'peer', 'destruction', 'comment', 'science', 'federation', 'troops', 'conflict', 'incentives', 'timing', 'words', 'guardian_newspaper', 'arrangements', 'bbc_radio', 'session', 'examples', 'press_conference', 'journalists', 'appointment', 'practice', 'admission', 'telegraph', 'blair_s', 'article', 'foreign', 'remarks', 'importance', 'discussions', 'apology', 'manner', 'mission', 'reporters', 'feeling', 'decades', 'enterprise', 'proceedings', 'worker', 'religion', 'matters', 'impression', 'values', 'thought'], '1_4': ['labour', 'election', 'party', 'blair', 'tories', 'brown', 'chancellor', 'britain', 'campaign', 'tax', 'voters', 'taxes', 'tony_blair', 'conservatives', 'howard', 'tory', 'vote', 'budget', 'kennedy', 'leader', 'speech', 'poll', 'gordon_brown', 'power', 'democrats', 'elections', 'lib_dems', 'manifesto', 'seats', 'trust', 'ukip', 'term', 'michael_howard', 'majority', 'choice', 'conference', 'lib_dem', 'labour_election', 'politics', 'election_campaign', 'alan_milburn', 'poster', 'labour_party', 'strategy', 'date', 'leadership', 'votes', 'lib', 'supporters', 'leader_michael_howard', 'spring', 'milburn', 'unity', 'posters', 'pledge', 'bush', 'chairman_liam_fox', 'candidates', 'east', 'ambitions', 'waste', 'westminster', 'door', 'promises', 'leader_charles_kennedy', 'charles_kennedy', 'direction', 'oliver_letwin', 'campaigning', 'shadow_chancellor', 'platform', 'value_money', 'tax_cuts', 'taxation', 'fear', 'rift', 'seat', 'planning', 'pledges', 'delegates', 'stability', 'failure', 'warning', 'truth', 'hole', 'respect', 'independence', 'candidate', 'lack', 'labour_tories', 'electorate', 'labour_campaign', 'tories_lib', 'constituency', 'gateshead', 'premier', 'chancellor_gordon_brown', 'spending_plans', 'green', 'ambition', 'testing', 'prosperity', 'tony', 'commitments', 'news_conference', 'means', 'intention', 'tory_leader', 'president_george_w_bush', 'studies', 'budgets', 'midlands', 'argument', 'prime_minister_john_prescott', 'uk_independence_party', 'handling', 'polls', 'spin', 'headlines', 'pre', 'expert', 'passion', 'democrat_leader_charles_kennedy', 'coalition', 'commentators', 'stance', 'choices', 'protests', 'credibility', 'downing', 'cause', 'alternative', 'towns', 'kent'], '1_5': ['aid', 'africa', 'relief', 'poverty', 'aids', 'emergency', 'agenda', 'forum', 'disaster', 'climate_change', 'summit', 'agencies', 'leaders', 'fight', 'sort', 'agency', 'tsunami_disaster', 'stop', 'shop', 'resort', 'campaigners', 'nation', 'brussels', 'wake', 'charities', 'climate', 'sorts', 'rumours', 'prime_minister_tony_blair', 'disasters', 'agriculture', 'thinking', 'arguments'], '1_6': ['government', 'plans', 'children', 'schools', 'education', 'health', 'work', 'ministers', 'policy', 'parents', 'care', 'council_tax', 'spending', 'workers', 'child', 'concerns', 'council', 'cards', 'scheme', 'pension', 'proposals', 'fees', 'teachers', 'funding', 'plan', 'pensions', 'income_tax', 'areas', 'department', 'savings', 'head', 'programme', 'cuts', 'job', 'skills', 'response', 'students', 'idea', 'councils', 'interests', 'reforms', 'university', 'asylum', 'policies', 'society', 'pupils', 'transport', 'hospitals', 'communities', 'discipline', 'student', 'families', 'help', 'progress', 'views', 'welfare', 'paper', 'democracy', 'initiative', 'universities', 'benefits', 'regulations', 'nhs', 'kelly', 'pensioners', 'rises', 'backing', 'quotas', 'professor', 'purpose', 'efficiency', 'duty', 'year_olds', 'lessons', 'breakfast', '35bn', 'disease', 'frost', 'commitment', 'departments', 'patients', 'immigration_asylum', 'priority', 'bbc_one', 'adults', 'safety', 'classes', 'colleagues', 'immigrants', 'faith', 'home_secretary_charles_clarke', 'foundation', 'treatment', 'spokesman_mark_oaten', 'option', 'understanding', 'discussion', 'consensus', 'consultation', 'offices', 'disruption', 'retirement', 'shake', 'units', 'health_education', 'introduction', 'war_iraq', 'responsibilities', 'principles', 'guidelines', 'announcements', 'rule_law', 'protest', 'convention', 'background', 'expense', 'scope', 'institution', 'legacy', 'heads'], '2_0': ['penalty', 'ball', 'minutes', 'goal', 'try', 'line', 'half', 'chance', 'minute', 'kick', 'hodgson', 'lead', 'corner', 'break', 'points', 'centre', 'pass', 'shot', 'gara', 'visitors', 'barkley', 'penalties', 'effort', 'referee', 'jones', 'yards', 'fly_half', 'drop_goal', 'kicking', 'pressure', 'hickie', 'defence', 'ronaldo', 'tackle', 'header', 'wing', 'cross', 'touch', 'murphy', 'charlie', 'strike', 'post', 'hand', 'superb', 'yard', 'byrne', 'moments', 'spot', 'capt', 'charlie_hodgson', 'wasps', 'moody', 'winger', 'ronan', 'scoring', 'bar', 'hayes', 'foot', 'mistake', 'hosts', 'posts', 'borders', 'edge', 'touchline', 'james', 'fortune', 'pack', 'backs', 'score', 'partner', 'angle', 'interval', 'scores', 'clock', 'possession', 'ryan', 'hero', 'metres', 'spell', 'closing', 'finish', 'wall', 'lewis', 'path', 'sight', 'shots', 'stand', 'couldn', 'bones', 'holland'], '2_1': ['england', 'wales', 'ireland', 'nations', 'france', 'scotland', 'win', 'rugby', 'new_zealand', 'victory', 'italy', 'saturday', 'coach', 'australia', 'world_cup', 'woodward', 'lions', 'defeat', 'cardiff', 'slam', 'championship', 'robinson', 'blacks', 'test', 'series', 'south_africa', 'welsh', 'paris', 'captain', 'squad', 'matches', 'march', 'dublin', 'weekend', 'wins', 'twickenham', 'tour', 'lansdowne_road', 'june', 'loss', 'park', 'row', 'champions', 'edinburgh', 'sullivan', 'display', 'tries', 'autumn', 'sides', 'teams', 'eddie', 'flanker', 'scots', 'brian_driscoll', 'lions_tour', 'replacement', 'skipper', 'encounter', 'bath', 'hopes', 'challenge', 'matt_williams', 'clive', 'displays', 'prop', 'coach_andy_robinson', 'decider', 'rugby_board', 'thomas', 'lock', 'bbc_sport', 'rbs_nations', 'cap', 'south', 'england_nations', 'crown', 'canada', 'blow', 'gareth', 'jason_robinson', 'injuries', 'french', 'belief', 'hamstring_injury', 'irish', 'gloucester', 'scrum_half', 'succession', 'connell', 'rome', 'knee', 'coach_bernard_laporte', 'victories', 'northern_ireland', 'talk', 'knee_injury', 'selection', 'davies', 'prospect', 'likes', 'trophy', 'absence', 'eyes', 'gordon', 'finals', 'england_coach', 'revenge', 'fellow', 'cooper', 'inclusion', 'surgery', 'lawrence_dallaglio', 'verge', 'afternoon', 'nerve', 'simon'], '2_2': ['chelsea', 'arsenal', 'club', 'liverpool', 'manager', 'season', 'cup', 'boss', 'premiership', 'champions_league', 'united', 'football', 'newcastle', 'sunday', 'everton', 'player', 'league', 'return', 'manchester', 'tie', 'striker', 'wednesday', 'southampton', 'career', 'manchester_united', 'leicester', 'city', 'sir_alex_ferguson', 'ferguson', 'carling_cup', 'blackburn', 'barcelona', 'tottenham', 'fulham', 'west', 'goals', 'sheffield', 'benitez', 'result', 'contract', 'arsene_wenger', 'rangers', 'blues', 'keeper', 'trip', 'man_utd', 'association', 'leg', 'defender', 'anfield', 'incident', 'gunners', 'mourinho', 'portsmouth', 'ground', 'goalkeeper', 'steven_gerrard', 'winter', 'table', 'host', 'bridge', 'milan', 'paul', 'rivals', 'trafford', 'clubs', 'trouble', 'manchester_city', 'rest', 'comeback', 'midfielder', 'glory', 'cole', 'aston', 'seasons', 'schedule', 'fixture', 'midfield', 'options', 'gmt', 'holders', 'face', 'runners', 'criticism', 'team_mate', 'suspension', 'representatives', 'appearances', 'bench', 'frank', 'real', 'stages', 'english', 'youngsters', 'assistant', 'end_season', 'john', 'dip', 'arrival', 'vice', 'departure', 'rivalry', 'yorkshire', 'doctor', 'whistle', 'recall', 'steve', 'fault', 'shame'], '2_3': ['gold', 'team', 'men', 'athens', 'holmes', 'athletics', 'sydney', 'women', 'iaaf', 'championships', 'olympics', 'medal', 'olympic', 'form', 'body', 'august', 'tests', 'sprinters', 'union', 'pair', 'birmingham', 'chicago', 'international', 'relay', 'tel_aviv', 'medallist', 'training', 'ban', 'summer', 'race', 'madrid', 'sport', 'marathon', 'athens_games', 'norwich', 'silver', 'tribunal', 'kenteris_thanou', 'kenteris_katerina_thanou', 'athletes', 'field', 'kelly_holmes', 'bit', 'prix', 'eve', 'jump', 'stadium', 'runner', 'allegations', 'drugs_test', 'hearing', 'drugs', 'sprint', 'athlete', 'johnson', 'hope', 'course', 'holder', 'crash', 'trials', 'hurdles', 'bans', 'appeal', 'sprinter', 'sports', 'greece', 'campbell', 'glasgow', 'promise', 'road', 'hospital', 'accident', 'shock', 'world_champion', 'thing', 'reputation', 'desire', 'leeds', 'indoors', 'suit', 'bomb', 'venue', 'start_season', 'races', 'participation', 'playing', 'shape', 'trio', 'preparation', 'mistakes', 'journey', 'scot', 'victor', 'good', 'millennium', 'luck', 'circuit', 'neil'], '2_4': ['time', 'game', 'players', 'week', 'days', 'place', 'fans', 'weeks', 'hour', 'couple', 'hours', 'opportunity', 'mark', 'confidence', 'space', 'chances', 'seconds', 'events', 'plenty', 'moment', 'didn', 'camp', 'atmosphere', 'guys', 'smith', 'contest', 'fitness', 'pitch', 'style', 'bell', 'world_class', 'coaches', 'task', 'character', 'errors', 'briton', 'gear', 'outcome', 'dressing_room', 'reaction', 'mood', 'zone', 'ranks', 'enthusiasm', 'affair', 'frustration', 'pieces', 'subs', 'miller'], '2_5': ['match', 'champion', 'seed', 'round', 'roddick', 'spain', 'title', 'set', 'williams', 'tennis', 'injury', 'event', 'wimbledon', 'open', 'davis_cup', 'lleyton_hewitt', 'henman', 'winner', 'american', 'hewitt', 'davenport', 'switzerland', 'point', 'andy_roddick', 'tournament', 'opening', 'tim_henman', 'draw', 'crowd', 'start', 'sweden', 'argentina', 'melbourne', 'friday', 'quarter_finals', 'roger_federer', 'israel', 'andre', 'serve', 'elena', 'run', 'semi_finals', 'dubai', 'johansson', 'taylor', 'final', 'sets', 'spaniard', 'romania', 'usa', 'surface', 'exhibition', 'rafael', 'republic', 'atp', 'doubt', 'kim', 'ankle', 'teenager', 'favourite', 'attempts', 'dream', 'opponent', 'disappointment', 'greg', 'clash', 'compatriot', 'robbie', 'fish', 'shoulder', 'beat', 'rob'], '3_0': ['service', 'services', 'internet', 'broadband', 'network', 'customers', 'data', 'speed', 'access', 'operators', 'calls', 'numbers', 'survey', 'voice', 'programmes', 'cable', 'connections', 'speeds', 'telephone', 'connection', 'satellite', 'subscribers', 'viewers', 'provider', 'sky', 'language', 'subscription', 'providers', 'centres', 'box', 'advantage', 'protocol', 'names', 'distribution', 'fee', 'launches', 'channels', 'phone_calls', 'vodafone', 'dial', 'online', 'need', 'type', 'musicians', 'lines', 'sign', 'premium', 'marketing', 'customer', 'telecommunications', 'publishers', 'britons', 'homes', 'train', 'person', 'download', 'deals', 'credit_card', 'complaints', 'theft', 'instance', 'model', 'shopping', 'ofcom', 'broadcasters', 'behalf', 'reality', 'licence', 'advertising', 'copyright', 'material', 'households', 'items', 'types', 'identity', 'brands', 'broadcaster', 'tracks', 'wave', 'wealth', 'proportion', 'corporation', 'americans', 'adult', 'music_industry', 'creation', 'spokesperson', 'partnerships', 'tactics', 'couple_years'], '3_1': ['software', 'users', 'microsoft', 'security', 'mail', 'web', 'information', 'computer', 'windows', 'virus', 'google', 'site', 'programs', 'spam', 'pcs', 'viruses', 'websites', 'spyware', 'search', 'home', 'computers', 'attacks', 'sites', 'machines', 'networks', 'program', 'net', 'traffic', 'blogs', 'browser', 'website', 'addresses', 'yahoo', 'tool', 'tools', 'messages', 'attack', 'code', 'operating_system', 'spammers', 'mails', 'criminals', 'message', 'project', 'search_engine', 'security_firm', 'versions', 'address', 'user', 'worm', 'outlook', 'aol', 'attachment', 'blog', 'adverts', 'threats', 'linux', 'firewall', 'tech', 'mail_messages', 'search_engines', 'links', 'servers', 'text', 'page', 'pages', 'word', 'makers', 'source', 'desktop', 'link', 'surfers', 'amazon', 'awareness', 'blogger', 'sophos', 'core', 'analysis', 'organisations', 'maker', 'knowledge', 'existence', 'researchers', 'individuals', 'computer_users', 'lists', 'vice_president', 'port', 'monitoring', 'competitors', 'techniques', 'document', 'warnings', 'california', 'giants', 'danger', 'entries', 'source_software', 'consultant', 'labs', 'incidents', 'opinions', 'center', 'stations', 'requests', 'instructions', 'actions', 'pattern', 'movement', 'victim', 'boards', 'forms', 'methods', 'think', 'components', 'phenomenon', 'fortunes', 'languages', 'permission', 'chain', 'patterns', 'compromise', 'aspects', 'harm', 'human'], '3_2': ['people', 'technology', 'phone', 'way', 'phones', 'mobiles', 'research', 'handsets', 'radio', 'consumers', 'use', 'cameras', 'things', 'future', 'ways', 'lot', 'analyst', 'size', 'multimedia', 'mobile', 'study', 'problem', 'handset', 'ability', 'nokia', 'lifestyle', 'fact', 'gartner', 'intel', 'today', 'colour', 'screens', 'standards', 'habits', 'models', 'jupiter', 'variety', 'jupiter_research', 'reason', 'population', 'owners', 'image', 'contact', 'factor', 'demands', 'functions', 'europeans', 'light', 'signals', 'privacy', 'amounts', 'needs', 'collection', 'laptops', 'broadcasts', 'percent', 'fashion', 'chips', 'transfer', 'manufacturers', 'trend', 'ideas', 'potential', 'samsung', 'depth', 'text_messages', 'ups', 'standard', 'broadcasting', 'capability', 'ones', 'communications', 'improvements', 'shift', 'communication', 'scientists', 'implications', 'lots', 'mp3_players', 'photo', 'moves', 'kids', 'readers', 'combination', 'signal', 'bills', 'delivery', 'buildings', 'laboratory', 'equipment', 'detail', 'lot_work', 'mass', 'nature', 'emphasis', 'floor', 'planet', 'attitudes', 'initiatives', 'clothing', 'internet_access', 'faces', 'slice', 'conversation', 'route', 'criteria', 'reach', 'representative', 'tomorrow', 'location'], '3_3': ['firms', 'system', 'systems', 'file', 'control', 'files', 'problems', 'alliance', 'piracy', 'formats', 'experts', 'popularity', 'documents', 'water', 'electronics', 'hold', 'stores', 'peer_peer', 'solutions', 'parts', 'elements', 'operating_officer', 'electricity', 'border', 'steps', 'flight', 'passport', 'doubts', 'colleague', 'attitude'], '3_4': ['music', 'video', 'media', 'devices', 'content', 'apple', 'technologies', 'storage', 'images', 'products', 'dvd', 'definition', 'gadgets', 'gadget', 'ces', 'design', 'drive', 'consumer_electronics', 'itunes', 'thousands', 'las_vegas', 'revolution', 'music_players', 'memory', 'pocket', 'tvs', 'card', 'industry_experts', 'motorola', 'kind', 'camera', 'innovation', 'millions', 'photos', 'pictures', 'bbc_news_website', 'engineering', 'dvds', 'stories', 'lovers', 'video_images', 'keyboard', 'digital', 'experiences', 'audio', 'mouse', 'trends', 'broadcast', 'laptop', 'focus', 'boxes', 'video_recorders', 'monitor', 'drives', 'room', 'music_download', 'doors', 'media_players', 'mainstream', 'hundreds', 'station', 'living', 'labels', 'store', 'worlds', 'clips', 'videos', 'radio_stations', 'ease', 'print', 'audiences', 'upgrade', 'application', 'developments', 'niche', 'pundits', 'hub', 'shelves', 'downloads', 'consultancy', 'speakers', 'media_player', 'music_movies', 'sessions'], '3_5': ['games', 'sony', 'gamers', 'console', 'gaming', 'xbox', 'generation', 'titles', 'playstation', 'nintendo', 'graphics', 'details', 'device', 'developers', 'consoles', 'launch', 'range', 'machine', 'chip', 'entertainment', 'quality', 'capacity', 'cell', 'psp', 'features', 'movies', 'experience', 'halo', 'games_console', 'microsoft_xbox', 'sun', 'hardware', 'ibm', 'computing', 'format', 'product', 'brand', 'gates', 'panel', 'rival', 'era', 'video_games', 'specifications', 'processing', 'capabilities', 'processors', 'vision', 'metal', 'buzz', 'sense', 'applications', 'aspect', 'computer_games', 'messaging', 'eye', 'programming', 'controls', 'specialist', 'concept', 'fun', 'periods', 'publisher', 'copy', 'excitement', 'perspective', 'catalogue', 'dominance', 'articles'], '4_0': ['film', 'director', 'films', 'movie', 'box_office', 'festival', 'screen', 'version', 'cinema', 'documentary', 'film_festival', 'berlin', 'producer', 'feature', 'picture', 'screenplay', 'bear', 'critics', 'organisers', 'writer', 'academy', 'alexander', 'sideways', 'arts', 'film_maker', 'writing', 'motion', 'credits', 'horror', 'america', 'north', 'golden', 'takings', 'lord_rings', 'art', 'sequel', 'sea', 'screening', 'star_wars', 'writers', 'works', 'cinemas', 'bond', 'episode', 'martin', 'editing', 'film_makers', 'adaptation', 'fiction', 'tickets', 'running', 'recognition', 'jury', 'lopez', 'expression', 'ring', 'van', 'reception', 'scenes', 'ticket', 'praise', 'florida', 'length', 'key'], '4_1': ['number', 'album', 'chart', 'band', 'singer', 'song', 'pop', 'debut', 'day', 'rock', 'list', 'magazine', 'singles', 'success', 'artists', 'act', 'elvis', 'charts', 'release', 'new_york', 'songs', 'rap', 'copies', 'editor', 'scene', 'self', 'bands', 'boy', 'track', 'hip_hop', 'history', 'records', 'school', 'studio', 'label', 'cent', 'rock_band', 'concert', 'tribute', 'king', 'keane', 'sound', 'hit', 'stone', 'eminem', 'don', 'factory', 'franz_ferdinand', 'sisters', 'places', 'rapper', 'entry', 'grammy', 'recording', 'charity', 'albums', 'streets', 'fame', 'roll', '1980s', 'david', 'artist', 'hits', 'acts', 'wilson', 'present', 'wedding', 'legend', 'reviews', 'soldiers', 'girls', 'anniversary', 'hall', 'attention', 'books', 'interviews', 'music_fans', 'stuff', 'look', 'clothes', 'fan', 'gig', 'atlantic', 'concerts', 'boys', '1970s', 'suicide', 'footage', 'cover', 'profile', 'theme', 'breakthrough', 'singers', 'ticket_sales', 'trick', 'husband', 'odds', 'frontman', 'tim', 'performers', 'performer', 'occasion', 'plot', 'presence', 'wonder', 'degree', 'agent', 'earth', 'celebration', 'promotion'], '4_2': ['awards', 'actor', 'award', 'actress', 'star', 'role', 'oscar', 'aviator', 'nominations', 'vera_drake', 'ceremony', 'prize', 'hollywood', 'comedy', 'drama', 'stars', 'night', 'oscars', 'imelda_staunton', 'dollar_baby', 'category', 'owen', 'globe', 'winners', 'ray', 'bafta', 'february', 'ray_charles', 'academy_awards', 'leonardo_dicaprio', 'jamie_foxx', 'winslet', 'leigh', 'cate_blanchett', 'actors', 'prizes', 'british', 'roles', 'biopic', 'nomination', 'los_angeles', 'favourites', 'nominees', 'categories', 'wine', 'mike', 'nominee', 'martin_scorsese', 'carpet', 'honour', 'motorcycle', 'diaries', 'contenders', 'surprise', 'engagement', 'veteran', 'brit', 'honours', 'spirit', 'christian', 'jean', 'dinner', 'triumph', 'trophies', 'calendar', 'adventure', 'mountain', 'deadline', 'icon', 'string', 'newcomer', 'tiger', 'positions', 'square', 'red', 'village', 'attendance'], '4_3': ['life', 'family', 'death', 'man', 'story', 'love', 'friends', 'wife', 'father', 'daughter', 'novel', 'drug', 'church', 'age', 'mother', 'queen', 'davis', 'island', 'assault', 'son', 'guy', 'murder', 'friend', 'peter', 'rush', 'sister', 'joy', 'birth', 'arrest', 'baby', 'piece', 'outrage', '1960s', 'acting', 'musician', 'battles', 'middle', 'characters', 'memories', 'section', 'pilot', 'count', 'army'], '4_4': ['london', 'theatre', 'performance', 'prince', 'producers', 'mary', 'play', 'stage', 'hotel', 'premiere', 'woman', 'house', 'achievement', 'studios', 'white', 'lady', 'san_francisco', 'opera', 'dance', 'contribution', 'materials', 'richard', 'girl', 'revival', 'costume', 'cambridge', 'evening', 'mrs', 'west_end', 'battle', 'dame', 'performances', 'headquarters', 'town', 'charles', 'base', 'appearance', 'cast', 'teacher', 'lifetime', 'college', 'beauty', 'slot', 'guard', 'blood', 'passage', 'biography', 'youth', 'critic'], '4_5': ['audience', 'television', 'channel', 'shows', 'celebrity', 'soap', 'sex', 'fox', 'talent', 'itv1', 'itv', 'mtv', 'ratings', 'brother', 'century', 'author', 'presenter', 'element', 'thriller', 'genre', 'violence', 'influence', 'duo', 'celebrities', 'exposure', 'publicity', 'productions', 'reference', 'individual', 'hell']}})\n"
          ]
        }
      ]
    },
    {
      "cell_type": "code",
      "source": [
        "community_topic.get_hierarchy_tree()"
      ],
      "metadata": {
        "colab": {
          "base_uri": "https://localhost:8080/"
        },
        "id": "6nK1-mpF_IBx",
        "outputId": "33f4f0a5-598a-4922-dea8-47e4097f93e3"
      },
      "execution_count": null,
      "outputs": [
        {
          "output_type": "execute_result",
          "data": {
            "text/plain": [
              "defaultdict(dict,\n",
              "            {'0': {'value': 'year company growth world firm economy years market sales months',\n",
              "              '0': {'value': 'company firm yukos deal shares group sale oil state fraud'},\n",
              "              '1': {'value': 'companies business industry jobs cost airline staff insurance businesses wage'},\n",
              "              '2': {'value': 'world countries country china india trade report europe debt money'},\n",
              "              '3': {'value': 'year sales december figures months quarter january month rise record'},\n",
              "              '4': {'value': 'growth economy years market dollar analysts bank demand inflation rates'}},\n",
              "             '1': {'value': 'government labour election party blair plans minister britain tories bill',\n",
              "              '0': {'value': 'secretary shadow referendum constitution question foreign_secretary jack_straw thursday european_union treasury'},\n",
              "              '1': {'value': 'court law police rights powers evidence case trial crime home_secretary'},\n",
              "              '2': {'value': 'bill commons committee spokesman mps decision bbc parliament chairman meeting'},\n",
              "              '3': {'value': 'minister statement action book advice answer prime_minister cabinet attorney_general claims'},\n",
              "              '4': {'value': 'labour election party blair tories brown chancellor britain campaign tax'},\n",
              "              '5': {'value': 'aid africa relief poverty aids emergency agenda forum disaster climate_change'},\n",
              "              '6': {'value': 'government plans children schools education health work ministers policy parents'}},\n",
              "             '2': {'value': 'time game england wales ireland france match team players chelsea',\n",
              "              '0': {'value': 'penalty ball minutes goal try line half chance minute kick'},\n",
              "              '1': {'value': 'england wales ireland nations france scotland win rugby new_zealand victory'},\n",
              "              '2': {'value': 'chelsea arsenal club liverpool manager season cup boss premiership champions_league'},\n",
              "              '3': {'value': 'gold team men athens holmes athletics sydney women iaaf championships'},\n",
              "              '4': {'value': 'time game players week days place fans weeks hour couple'},\n",
              "              '5': {'value': 'match champion seed round roddick spain title set williams tennis'}},\n",
              "             '3': {'value': 'people technology users music software services phone way service microsoft',\n",
              "              '0': {'value': 'service services internet broadband network customers data speed access operators'},\n",
              "              '1': {'value': 'software users microsoft security mail web information computer windows virus'},\n",
              "              '2': {'value': 'people technology phone way phones mobiles research handsets radio consumers'},\n",
              "              '3': {'value': 'firms system systems file control files problems alliance piracy formats'},\n",
              "              '4': {'value': 'music video media devices content apple technologies storage images products'},\n",
              "              '5': {'value': 'games sony gamers console gaming xbox generation titles playstation nintendo'}},\n",
              "             '4': {'value': 'film award awards actor director number star films actress oscar',\n",
              "              '0': {'value': 'film director films movie box_office festival screen version cinema documentary'},\n",
              "              '1': {'value': 'number album chart band singer song pop debut day rock'},\n",
              "              '2': {'value': 'awards actor award actress star role oscar aviator nominations vera_drake'},\n",
              "              '3': {'value': 'life family death man story love friends wife father daughter'},\n",
              "              '4': {'value': 'london theatre performance prince producers mary play stage hotel premiere'},\n",
              "              '5': {'value': 'audience television channel shows celebrity soap sex fox talent itv1'}}})"
            ]
          },
          "metadata": {},
          "execution_count": 21
        }
      ]
    },
    {
      "cell_type": "markdown",
      "source": [
        "## **3. Topic Modelling on Spanish Language**"
      ],
      "metadata": {
        "id": "zC8VeOcuCq-v"
      }
    },
    {
      "cell_type": "markdown",
      "source": [
        "#### **Peforming a task of topic modelling on Europarl Italian Dataset**"
      ],
      "metadata": {
        "id": "-bfYPvtAKCgq"
      }
    },
    {
      "cell_type": "code",
      "source": [
        "# Load raw corpus as the dataset, here we are using Europarl English and Italian dataset.\n",
        "\n",
        "with open(\"/content/drive/My Drive/europarl_it_train.txt\", \"r\", encoding='utf-8') as f:\n",
        "      europarl_it_train = f.read()\n",
        "      \n",
        "with open(\"/content/drive/My Drive/europarl_it_test.txt\", \"r\", encoding='utf-8') as f:\n",
        "      europarl_it_test = f.read()"
      ],
      "metadata": {
        "id": "paBEkJgOCp1S"
      },
      "execution_count": null,
      "outputs": []
    },
    {
      "cell_type": "code",
      "source": [
        "!python -m spacy download it_core_news_sm"
      ],
      "metadata": {
        "colab": {
          "base_uri": "https://localhost:8080/"
        },
        "id": "MiTdDQ4rEhKa",
        "outputId": "b473c951-0462-4b5c-c0a4-8a2d72a40db9"
      },
      "execution_count": null,
      "outputs": [
        {
          "output_type": "stream",
          "name": "stdout",
          "text": [
            "/usr/local/lib/python3.9/dist-packages/torch/cuda/__init__.py:497: UserWarning: Can't initialize NVML\n",
            "  warnings.warn(\"Can't initialize NVML\")\n",
            "2023-03-25 04:42:34.626798: W tensorflow/compiler/xla/stream_executor/platform/default/dso_loader.cc:64] Could not load dynamic library 'libnvinfer.so.7'; dlerror: libnvinfer.so.7: cannot open shared object file: No such file or directory; LD_LIBRARY_PATH: /usr/local/nvidia/lib:/usr/local/nvidia/lib64\n",
            "2023-03-25 04:42:34.626906: W tensorflow/compiler/xla/stream_executor/platform/default/dso_loader.cc:64] Could not load dynamic library 'libnvinfer_plugin.so.7'; dlerror: libnvinfer_plugin.so.7: cannot open shared object file: No such file or directory; LD_LIBRARY_PATH: /usr/local/nvidia/lib:/usr/local/nvidia/lib64\n",
            "2023-03-25 04:42:34.626929: W tensorflow/compiler/tf2tensorrt/utils/py_utils.cc:38] TF-TRT Warning: Cannot dlopen some TensorRT libraries. If you would like to use Nvidia GPU with TensorRT, please make sure the missing libraries mentioned above are installed properly.\n",
            "2023-03-25 04:42:36.986005: E tensorflow/compiler/xla/stream_executor/cuda/cuda_driver.cc:267] failed call to cuInit: CUDA_ERROR_NO_DEVICE: no CUDA-capable device is detected\n",
            "Looking in indexes: https://pypi.org/simple, https://us-python.pkg.dev/colab-wheels/public/simple/\n",
            "Collecting it-core-news-sm==3.5.0\n",
            "  Downloading https://github.com/explosion/spacy-models/releases/download/it_core_news_sm-3.5.0/it_core_news_sm-3.5.0-py3-none-any.whl (13.0 MB)\n",
            "\u001b[2K     \u001b[90m━━━━━━━━━━━━━━━━━━━━━━━━━━━━━━━━━━━━━━━━\u001b[0m \u001b[32m13.0/13.0 MB\u001b[0m \u001b[31m42.6 MB/s\u001b[0m eta \u001b[36m0:00:00\u001b[0m\n",
            "\u001b[?25hRequirement already satisfied: spacy<3.6.0,>=3.5.0 in /usr/local/lib/python3.9/dist-packages (from it-core-news-sm==3.5.0) (3.5.1)\n",
            "Requirement already satisfied: preshed<3.1.0,>=3.0.2 in /usr/local/lib/python3.9/dist-packages (from spacy<3.6.0,>=3.5.0->it-core-news-sm==3.5.0) (3.0.8)\n",
            "Requirement already satisfied: thinc<8.2.0,>=8.1.8 in /usr/local/lib/python3.9/dist-packages (from spacy<3.6.0,>=3.5.0->it-core-news-sm==3.5.0) (8.1.9)\n",
            "Requirement already satisfied: spacy-legacy<3.1.0,>=3.0.11 in /usr/local/lib/python3.9/dist-packages (from spacy<3.6.0,>=3.5.0->it-core-news-sm==3.5.0) (3.0.12)\n",
            "Requirement already satisfied: numpy>=1.15.0 in /usr/local/lib/python3.9/dist-packages (from spacy<3.6.0,>=3.5.0->it-core-news-sm==3.5.0) (1.21.6)\n",
            "Requirement already satisfied: setuptools in /usr/local/lib/python3.9/dist-packages (from spacy<3.6.0,>=3.5.0->it-core-news-sm==3.5.0) (67.6.0)\n",
            "Requirement already satisfied: srsly<3.0.0,>=2.4.3 in /usr/local/lib/python3.9/dist-packages (from spacy<3.6.0,>=3.5.0->it-core-news-sm==3.5.0) (2.4.6)\n",
            "Requirement already satisfied: packaging>=20.0 in /usr/local/lib/python3.9/dist-packages (from spacy<3.6.0,>=3.5.0->it-core-news-sm==3.5.0) (23.0)\n",
            "Requirement already satisfied: jinja2 in /usr/local/lib/python3.9/dist-packages (from spacy<3.6.0,>=3.5.0->it-core-news-sm==3.5.0) (3.1.2)\n",
            "Requirement already satisfied: smart-open<7.0.0,>=5.2.1 in /usr/local/lib/python3.9/dist-packages (from spacy<3.6.0,>=3.5.0->it-core-news-sm==3.5.0) (6.3.0)\n",
            "Requirement already satisfied: requests<3.0.0,>=2.13.0 in /usr/local/lib/python3.9/dist-packages (from spacy<3.6.0,>=3.5.0->it-core-news-sm==3.5.0) (2.27.1)\n",
            "Requirement already satisfied: catalogue<2.1.0,>=2.0.6 in /usr/local/lib/python3.9/dist-packages (from spacy<3.6.0,>=3.5.0->it-core-news-sm==3.5.0) (2.0.8)\n",
            "Requirement already satisfied: pydantic!=1.8,!=1.8.1,<1.11.0,>=1.7.4 in /usr/local/lib/python3.9/dist-packages (from spacy<3.6.0,>=3.5.0->it-core-news-sm==3.5.0) (1.10.7)\n",
            "Requirement already satisfied: murmurhash<1.1.0,>=0.28.0 in /usr/local/lib/python3.9/dist-packages (from spacy<3.6.0,>=3.5.0->it-core-news-sm==3.5.0) (1.0.9)\n",
            "Requirement already satisfied: typer<0.8.0,>=0.3.0 in /usr/local/lib/python3.9/dist-packages (from spacy<3.6.0,>=3.5.0->it-core-news-sm==3.5.0) (0.7.0)\n",
            "Requirement already satisfied: wasabi<1.2.0,>=0.9.1 in /usr/local/lib/python3.9/dist-packages (from spacy<3.6.0,>=3.5.0->it-core-news-sm==3.5.0) (1.1.1)\n",
            "Requirement already satisfied: pathy>=0.10.0 in /usr/local/lib/python3.9/dist-packages (from spacy<3.6.0,>=3.5.0->it-core-news-sm==3.5.0) (0.10.1)\n",
            "Requirement already satisfied: tqdm<5.0.0,>=4.38.0 in /usr/local/lib/python3.9/dist-packages (from spacy<3.6.0,>=3.5.0->it-core-news-sm==3.5.0) (4.65.0)\n",
            "Requirement already satisfied: spacy-loggers<2.0.0,>=1.0.0 in /usr/local/lib/python3.9/dist-packages (from spacy<3.6.0,>=3.5.0->it-core-news-sm==3.5.0) (1.0.4)\n",
            "Requirement already satisfied: cymem<2.1.0,>=2.0.2 in /usr/local/lib/python3.9/dist-packages (from spacy<3.6.0,>=3.5.0->it-core-news-sm==3.5.0) (2.0.7)\n",
            "Requirement already satisfied: langcodes<4.0.0,>=3.2.0 in /usr/local/lib/python3.9/dist-packages (from spacy<3.6.0,>=3.5.0->it-core-news-sm==3.5.0) (3.3.0)\n",
            "Requirement already satisfied: typing-extensions>=4.2.0 in /usr/local/lib/python3.9/dist-packages (from pydantic!=1.8,!=1.8.1,<1.11.0,>=1.7.4->spacy<3.6.0,>=3.5.0->it-core-news-sm==3.5.0) (4.5.0)\n",
            "Requirement already satisfied: charset-normalizer~=2.0.0 in /usr/local/lib/python3.9/dist-packages (from requests<3.0.0,>=2.13.0->spacy<3.6.0,>=3.5.0->it-core-news-sm==3.5.0) (2.0.12)\n",
            "Requirement already satisfied: idna<4,>=2.5 in /usr/local/lib/python3.9/dist-packages (from requests<3.0.0,>=2.13.0->spacy<3.6.0,>=3.5.0->it-core-news-sm==3.5.0) (3.4)\n",
            "Requirement already satisfied: certifi>=2017.4.17 in /usr/local/lib/python3.9/dist-packages (from requests<3.0.0,>=2.13.0->spacy<3.6.0,>=3.5.0->it-core-news-sm==3.5.0) (2022.12.7)\n",
            "Requirement already satisfied: urllib3<1.27,>=1.21.1 in /usr/local/lib/python3.9/dist-packages (from requests<3.0.0,>=2.13.0->spacy<3.6.0,>=3.5.0->it-core-news-sm==3.5.0) (1.26.15)\n",
            "Requirement already satisfied: confection<1.0.0,>=0.0.1 in /usr/local/lib/python3.9/dist-packages (from thinc<8.2.0,>=8.1.8->spacy<3.6.0,>=3.5.0->it-core-news-sm==3.5.0) (0.0.4)\n",
            "Requirement already satisfied: blis<0.8.0,>=0.7.8 in /usr/local/lib/python3.9/dist-packages (from thinc<8.2.0,>=8.1.8->spacy<3.6.0,>=3.5.0->it-core-news-sm==3.5.0) (0.7.9)\n",
            "Requirement already satisfied: click<9.0.0,>=7.1.1 in /usr/local/lib/python3.9/dist-packages (from typer<0.8.0,>=0.3.0->spacy<3.6.0,>=3.5.0->it-core-news-sm==3.5.0) (8.1.3)\n",
            "Requirement already satisfied: MarkupSafe>=2.0 in /usr/local/lib/python3.9/dist-packages (from jinja2->spacy<3.6.0,>=3.5.0->it-core-news-sm==3.5.0) (2.1.2)\n",
            "Installing collected packages: it-core-news-sm\n",
            "Successfully installed it-core-news-sm-3.5.0\n",
            "\u001b[38;5;2m✔ Download and installation successful\u001b[0m\n",
            "You can now load the package via spacy.load('it_core_news_sm')\n"
          ]
        }
      ]
    },
    {
      "cell_type": "code",
      "source": [
        "# Performing pre-processing on training and testing corpus\n",
        "# Keep language parameter here as per the language of your dataset\n",
        "\n",
        "# English - \"en\"\n",
        "# Italian - \"it\"\n",
        "# French - \"fr\"\n",
        "# German - \"de\"\n",
        "# spanish - \"es\"\n",
        "\n",
        "tokenized_europarl_it_train_sents, tokenized_europarl_it_train_docs, tokenized_europarl_it_test_docs, dictionary = PreProcessing.do_preprocessing(\n",
        "        train=europarl_it_train,\n",
        "        test=europarl_it_test,\n",
        "        ner=1,\n",
        "        pos_filter=3,\n",
        "        phrases=\"npmi\",\n",
        "        phrase_threshold=0.35,\n",
        "        language=\"it\")"
      ],
      "metadata": {
        "colab": {
          "base_uri": "https://localhost:8080/"
        },
        "id": "v3V0epEnEIvx",
        "outputId": "df3795ec-2917-4ffd-831e-1ab3322e7d25"
      },
      "execution_count": null,
      "outputs": [
        {
          "output_type": "stream",
          "name": "stdout",
          "text": [
            "Preprocessing documents...\n",
            "Preprocessing completed in 68.80279231071472 seconds\n"
          ]
        }
      ]
    },
    {
      "cell_type": "code",
      "source": [
        "# Initializing Community Topic algorithm's instance for pre-processed data\n",
        "\n",
        "ct_europarl_it = CommunityTopic(train_corpus=tokenized_europarl_it_train_sents,  dictionary=dictionary)\n",
        "ct_europarl_it.fit()"
      ],
      "metadata": {
        "colab": {
          "base_uri": "https://localhost:8080/"
        },
        "id": "V0xq7rRvHWjz",
        "outputId": "ab18b78a-907a-4ab4-c3aa-950917374d80"
      },
      "execution_count": null,
      "outputs": [
        {
          "output_type": "stream",
          "name": "stdout",
          "text": [
            "Generating network...\n",
            "Finding topic communities...\n",
            "Topics found in 0.06600284576416016 seconds\n",
            "Sorting topics...\n",
            "Topics sorted in 0.33835482597351074 seconds\n"
          ]
        }
      ]
    },
    {
      "cell_type": "code",
      "source": [
        "topic_words = ct_europarl_it.get_topics_words_topn(10)\n",
        "print(topic_words)"
      ],
      "metadata": {
        "colab": {
          "base_uri": "https://localhost:8080/"
        },
        "id": "VRuWjixVIXcZ",
        "outputId": "f21efc2f-8c2e-4697-9833-6975dc2ee3ca"
      },
      "execution_count": null,
      "outputs": [
        {
          "output_type": "stream",
          "name": "stdout",
          "text": [
            "[['sviluppo', 'politica', 'livello', 'settore', 'fondi', 'occupazione', 'particolare', 'regioni', 'programma', 'ambito'], ['commissione', 'parlamento', 'relazione', 'onorevole', 'signor_presidente', 'proposta', 'parlamento_europeo', 'questione', 'colleghi', 'discussione'], ['unione_europea', 'paesi', 'europa', 'unione', 'diritti', 'cittadini', 'diritto', 'situazione', 'accordo', 'regione'], ['membri', 'materia', 'direttiva', 'ambiente', 'sicurezza', 'applicazione', 'base', 'sistema', 'controllo', 'problemi']]\n"
          ]
        }
      ]
    },
    {
      "cell_type": "markdown",
      "source": [
        "Converting above topics into English gives following as output:\n",
        "(note: we have used DeepL to convert Italian topics into English - https://www.deepl.com/translator)\n",
        "\n",
        "\n",
        "**List of Topics found in EuroParl Italian:**\n",
        "\n",
        "['development', 'policy', 'level', 'sector', 'funds', 'employment', 'particular', 'regions', 'program', 'scope'] \n",
        "\n",
        "['committee', 'parliament', 'report', 'honorable', 'mr_president', 'proposal', 'european_parliament', 'issue', 'colleagues', 'debate']\n",
        "\n",
        "['europe_union', 'countries', 'europe', 'union', 'rights', 'citizens', 'right', 'situation', 'agreement', 'region'] \n",
        "\n",
        "['members', 'matter', 'directive', 'environment', 'security', 'application', 'base', 'system', 'control', 'problems']\n"
      ],
      "metadata": {
        "id": "ZSTWoxOWJTwq"
      }
    },
    {
      "cell_type": "markdown",
      "source": [
        "#### **Peforming a task of topic modelling on same Europarl Dataset but in English**\n",
        "\n",
        "---\n",
        "\n",
        "\n",
        "\n"
      ],
      "metadata": {
        "id": "Ar9hEmY0KM8R"
      }
    },
    {
      "cell_type": "code",
      "source": [
        "# Load raw corpus as the dataset, here we are using Europarl English and Italian dataset.\n",
        "\n",
        "with open(\"/content/drive/My Drive/europarl_en_train.txt\", \"r\", encoding='utf-8') as f:\n",
        "      europarl_en_train = f.read()\n",
        "      \n",
        "with open(\"/content/drive/My Drive/europarl_en_test.txt\", \"r\", encoding='utf-8') as f:\n",
        "      europarl_en_test = f.read()"
      ],
      "metadata": {
        "id": "cb2mSqMQKKfB"
      },
      "execution_count": null,
      "outputs": []
    },
    {
      "cell_type": "code",
      "source": [
        "# Performing pre-processing on training and testing corpus\n",
        "\n",
        "tokenized_europarl_en_train_sents, tokenized_europarl_en_train_docs, tokenized_europarl_en_test_docs, dictionary = PreProcessing.do_preprocessing(\n",
        "        train=europarl_en_train,\n",
        "        test=europarl_en_test,\n",
        "        ner=1,\n",
        "        pos_filter=3,\n",
        "        phrases=\"npmi\",\n",
        "        phrase_threshold=0.35,\n",
        "        language=\"en\")"
      ],
      "metadata": {
        "colab": {
          "base_uri": "https://localhost:8080/"
        },
        "id": "8sxU8iWwKewx",
        "outputId": "306f45ba-89d6-45db-c500-12a66421d9f1"
      },
      "execution_count": null,
      "outputs": [
        {
          "output_type": "stream",
          "name": "stdout",
          "text": [
            "Preprocessing documents...\n",
            "Preprocessing completed in 89.24761414527893 seconds\n"
          ]
        }
      ]
    },
    {
      "cell_type": "code",
      "source": [
        "# Initializing Community Topic algorithm's instance for pre-processed data\n",
        "\n",
        "ct_europarl_en = CommunityTopic(train_corpus=tokenized_europarl_en_train_sents,  dictionary=dictionary)\n",
        "ct_europarl_en.fit()"
      ],
      "metadata": {
        "colab": {
          "base_uri": "https://localhost:8080/"
        },
        "id": "nbLaKdHtK42P",
        "outputId": "7a703ce4-532c-47da-b157-c084253018ca"
      },
      "execution_count": null,
      "outputs": [
        {
          "output_type": "stream",
          "name": "stdout",
          "text": [
            "Generating network...\n",
            "Finding topic communities...\n",
            "Topics found in 0.03928971290588379 seconds\n",
            "Sorting topics...\n",
            "Topics sorted in 0.20667052268981934 seconds\n"
          ]
        }
      ]
    },
    {
      "cell_type": "code",
      "source": [
        "topic_words = ct_europarl_en.get_topics_words_topn(10)\n",
        "print(topic_words)"
      ],
      "metadata": {
        "colab": {
          "base_uri": "https://localhost:8080/"
        },
        "id": "Dcg5XBUgK9XR",
        "outputId": "f5f81a9e-b23c-402d-d9ed-6f1035ff2559"
      },
      "execution_count": null,
      "outputs": [
        {
          "output_type": "stream",
          "name": "stdout",
          "text": [
            "[['commission', 'parliament', 'president', 'council', 'report', 'time', 'debate', 'fact', 'proposal', 'european_parliament'], ['policy', 'development', 'community', 'member_states', 'areas', 'measures', 'employment', 'regions', 'level', 'cooperation'], ['european_union', 'europe', 'countries', 'rights', 'people', 'union', 'way', 'country', 'citizens', 'situation'], ['directive', 'market', 'services', 'competition', 'principle', 'service', 'example', 'years', 'system', 'regard']]\n"
          ]
        }
      ]
    },
    {
      "cell_type": "markdown",
      "source": [
        "As we can see that the english and italian produces same results, and it demostrates consistency of CT across different language."
      ],
      "metadata": {
        "id": "lI91KM9ULf6x"
      }
    }
  ]
}